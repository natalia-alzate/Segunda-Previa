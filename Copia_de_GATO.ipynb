{
  "nbformat": 4,
  "nbformat_minor": 0,
  "metadata": {
    "colab": {
      "name": "Copia de GATO.ipynb",
      "provenance": [],
      "collapsed_sections": [],
      "authorship_tag": "ABX9TyN/ZrroLsI2VJcYLTmF2AVF",
      "include_colab_link": true
    },
    "kernelspec": {
      "name": "python3",
      "display_name": "Python 3"
    },
    "language_info": {
      "name": "python"
    }
  },
  "cells": [
    {
      "cell_type": "markdown",
      "metadata": {
        "id": "view-in-github",
        "colab_type": "text"
      },
      "source": [
        "<a href=\"https://colab.research.google.com/github/natalia-alzate/Segunda-Previa/blob/main/Copia_de_GATO.ipynb\" target=\"_parent\"><img src=\"https://colab.research.google.com/assets/colab-badge.svg\" alt=\"Open In Colab\"/></a>"
      ]
    },
    {
      "cell_type": "markdown",
      "metadata": {
        "id": "1A21ZNLOyHzD"
      },
      "source": [
        "#Desarrollo creación de clase para generar objeto GATO\n",
        "\n",
        "\n"
      ]
    },
    {
      "cell_type": "code",
      "metadata": {
        "colab": {
          "base_uri": "https://localhost:8080/"
        },
        "id": "7c7zzC8Oyk3w",
        "outputId": "3256b529-f5f8-410d-fed6-711b79885644"
      },
      "source": [
        "class Gato:\n",
        "  número_patas = 4 #variable de clase, refleja caracteristica de todos los gatos en términos generales.\n",
        "  def __init__(self, nombre, raza, edad, género): #Aquí tenemos los \"identificadores\" que van a recibir los datos \n",
        "    self.nombre = nombre\n",
        "    self.raza = raza\n",
        "    self.edad = edad\n",
        "    self.genero = género\n",
        "  def maullar(self):\n",
        "    print(\"Miauuuw\")\n",
        "  def get_nombre(self): #Vamos a obtener el dato para el identificador\n",
        "    print(\"El gato se llama:\", self.nombre)\n",
        "  def get_raza(self):\n",
        "    print(\"Su raza es:\", self.raza)\n",
        "  def get_edad(self):\n",
        "    print(\"Su edad es:\", self.edad)\n",
        "  def get_genero(self):\n",
        "    print(\"Su género es:\", self.genero)\n",
        "G = Gato(\"Croockshanks\", \"Siamés\", 5, \"Masculino\")\n",
        "print(\"=ㅇㅅㅇ=\")\n",
        "\n",
        "G.maullar()\n",
        "G.get_nombre()\n",
        "G.get_raza()\n",
        "G.get_edad()\n",
        "G.get_genero()     \n"
      ],
      "execution_count": null,
      "outputs": [
        {
          "output_type": "stream",
          "name": "stdout",
          "text": [
            "=ㅇㅅㅇ=\n",
            "Miauuuw\n",
            "El gato se llama: Croockshanks\n",
            "Su raza es: Siamés\n",
            "Su edad es: 5\n",
            "Su género es: Masculino\n"
          ]
        }
      ]
    },
    {
      "cell_type": "code",
      "metadata": {
        "id": "5f89o-IHvPun"
      },
      "source": [
        ""
      ],
      "execution_count": null,
      "outputs": []
    }
  ]
}