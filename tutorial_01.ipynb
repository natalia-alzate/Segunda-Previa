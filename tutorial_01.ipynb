{
  "nbformat": 4,
  "nbformat_minor": 0,
  "metadata": {
    "colab": {
      "name": "tutorial-01.ipynb",
      "provenance": [],
      "collapsed_sections": [],
      "include_colab_link": true
    },
    "kernelspec": {
      "name": "python3",
      "display_name": "Python 3"
    },
    "language_info": {
      "name": "python"
    }
  },
  "cells": [
    {
      "cell_type": "markdown",
      "metadata": {
        "id": "view-in-github",
        "colab_type": "text"
      },
      "source": [
        "<a href=\"https://colab.research.google.com/github/natalia-alzate/Segunda-Previa/blob/main/tutorial_01.ipynb\" target=\"_parent\"><img src=\"https://colab.research.google.com/assets/colab-badge.svg\" alt=\"Open In Colab\"/></a>"
      ]
    },
    {
      "cell_type": "markdown",
      "metadata": {
        "id": "F8R7RCB3QYwm"
      },
      "source": [
        "## Python - Tutorial 01\n",
        "\n",
        "### variables, print()"
      ]
    },
    {
      "cell_type": "code",
      "metadata": {
        "colab": {
          "base_uri": "https://localhost:8080/"
        },
        "id": "BLKIoJcTQSQk",
        "outputId": "fb576bea-94af-4e08-8297-85c0feacb725"
      },
      "source": [
        "# Definición de variables\n",
        "vegetales = \"espinaca\"  # A la variable se le asigna una cadena\n",
        "\n",
        "# Imprimir el contenido de la variable\n",
        "print(vegetales)"
      ],
      "execution_count": null,
      "outputs": [
        {
          "output_type": "stream",
          "name": "stdout",
          "text": [
            "espinaca\n"
          ]
        }
      ]
    },
    {
      "cell_type": "code",
      "metadata": {
        "colab": {
          "base_uri": "https://localhost:8080/"
        },
        "id": "Rjjij9tGQy4v",
        "outputId": "dd6d2b8e-2a30-4c36-9668-b85bd485e242"
      },
      "source": [
        "# Redefiniendo una variable\n",
        "vegetales = \"tomate\"\n",
        "print(vegetales)"
      ],
      "execution_count": null,
      "outputs": [
        {
          "output_type": "stream",
          "name": "stdout",
          "text": [
            "tomate\n"
          ]
        }
      ]
    },
    {
      "cell_type": "code",
      "metadata": {
        "id": "MuTGj20pQ_RG"
      },
      "source": [
        "# Nombres válidos de variables\n",
        "# Los nombres son sensibles a mayúsculas y minúsculas\n",
        "\n",
        "lastresletras = \"XYZ\"\n",
        "las_tres_letras = \"XYZ\"\n",
        "lasTresLetras = \"XYZ\"\n",
        "\n",
        "# Los tres nombres de variable son diferentes entre sí"
      ],
      "execution_count": null,
      "outputs": []
    },
    {
      "cell_type": "code",
      "metadata": {
        "colab": {
          "base_uri": "https://localhost:8080/"
        },
        "id": "4wo5ENm6RoM8",
        "outputId": "bf3f1880-7586-4ddb-afa5-16b52930e9ac"
      },
      "source": [
        "# Se define una cadena\n",
        "apellido = \"valencia\"\n",
        "print(apellido)"
      ],
      "execution_count": null,
      "outputs": [
        {
          "output_type": "stream",
          "name": "stdout",
          "text": [
            "valencia\n"
          ]
        }
      ]
    },
    {
      "cell_type": "markdown",
      "metadata": {
        "id": "dKUd0jEuRioj"
      },
      "source": [
        "### Cadenas (String)\n",
        "\n",
        "Una cadena (string) almacena texto"
      ]
    },
    {
      "cell_type": "code",
      "metadata": {
        "colab": {
          "base_uri": "https://localhost:8080/"
        },
        "id": "H-VD5iPPR32u",
        "outputId": "6ff95a14-331a-4e5b-ac1c-9b91022786eb"
      },
      "source": [
        "# Para incluir comillas dentro de cadenas, se puede recurrir a la utilización\n",
        "# de comillas simples y dobles, según se aprecia a continuación\n",
        "\n",
        "frase = 'El dijo: \"El tomate posee muchos beneficios dietéticos\". Eso dijo'\n",
        "print(frase)"
      ],
      "execution_count": null,
      "outputs": [
        {
          "output_type": "stream",
          "name": "stdout",
          "text": [
            "El dijo: \"El tomate posee muchos beneficios dietéticos\". Eso dijo\n"
          ]
        }
      ]
    },
    {
      "cell_type": "code",
      "metadata": {
        "colab": {
          "base_uri": "https://localhost:8080/"
        },
        "id": "DDE2SKeNSTHy",
        "outputId": "c1491a83-61b4-4b58-ef6f-a4483a452c2b"
      },
      "source": [
        "# Un método alternativo para incluir una comilla doble dentro de una cadena\n",
        "# es mediante la utilización del backslash (\\) según se aprecia a continuación\n",
        "\n",
        "frase = \"El dijo: \\\"El tomate posee muchos beneficios dietéticos\\\". Eso dijo\"\n",
        "print(frase)"
      ],
      "execution_count": null,
      "outputs": [
        {
          "output_type": "stream",
          "name": "stdout",
          "text": [
            "El dijo: \"El tomate posee muchos beneficios dietéticos\". Eso dijo\n"
          ]
        }
      ]
    },
    {
      "cell_type": "markdown",
      "metadata": {
        "id": "e9ou92S7TPLI"
      },
      "source": [
        "### Funciones propias del lenguaje python\n",
        "\n",
        "Python posee muchas funciones que son propias del lenguaje. print(), por ejemplo, es una función cuyo propósito es imprimir información en el medio de salida"
      ]
    },
    {
      "cell_type": "markdown",
      "metadata": {
        "id": "05ucThVlTscp"
      },
      "source": [
        "### Longitud de una cadena (len)"
      ]
    },
    {
      "cell_type": "code",
      "metadata": {
        "colab": {
          "base_uri": "https://localhost:8080/"
        },
        "id": "wBDcDzhpTw2Z",
        "outputId": "671c8420-28fa-41ee-8caf-c1ded5752d7e"
      },
      "source": [
        "# Variable y su longitud\n",
        "\n",
        "saludo = \"Hola Mundo!!!\"\n",
        "print(len(saludo))"
      ],
      "execution_count": null,
      "outputs": [
        {
          "output_type": "stream",
          "name": "stdout",
          "text": [
            "13\n"
          ]
        }
      ]
    },
    {
      "cell_type": "code",
      "metadata": {
        "colab": {
          "base_uri": "https://localhost:8080/"
        },
        "id": "0gJFk_sjUAxp",
        "outputId": "961b2b92-32cf-48a4-bfe6-daa349ef5ccc"
      },
      "source": [
        "# Variante\n",
        "\n",
        "saludo = \"Hola Mundo!!!\"\n",
        "longitud = len(saludo)\n",
        "\n",
        "print(longitud)"
      ],
      "execution_count": null,
      "outputs": [
        {
          "output_type": "stream",
          "name": "stdout",
          "text": [
            "13\n"
          ]
        }
      ]
    },
    {
      "cell_type": "markdown",
      "metadata": {
        "id": "FlGx-dj4USxm"
      },
      "source": [
        "### Métodos (procedimientos) asociados a los String\n",
        "\n",
        "Un método es una acción que se ejucuta sobre un objeto (en este caso un string)"
      ]
    },
    {
      "cell_type": "code",
      "metadata": {
        "colab": {
          "base_uri": "https://localhost:8080/"
        },
        "id": "-KLxDCxLUcbV",
        "outputId": "f8dededc-8af9-4827-8611-ad76ae38caa9"
      },
      "source": [
        "# Convertir una cadena a minúscula (lower)\n",
        "\n",
        "saludo = \"HOLA Mundo!!!\"\n",
        "print(saludo.lower())\n",
        "\n",
        "# Oberve que el método se agrega con el operador punto (.) y que además se deben\n",
        "# utilizar los paréntesis, pues el método podría recibir parámetros"
      ],
      "execution_count": null,
      "outputs": [
        {
          "output_type": "stream",
          "name": "stdout",
          "text": [
            "hola mundo!!!\n"
          ]
        }
      ]
    },
    {
      "cell_type": "code",
      "metadata": {
        "colab": {
          "base_uri": "https://localhost:8080/"
        },
        "id": "bC6m9SyDU3qf",
        "outputId": "7c92f8ba-0762-4d4d-de37-c395b42a60f7"
      },
      "source": [
        "# Convertir a mayúsculas (upper)\n",
        "\n",
        "saludo = \"Hola mundo!!!\"\n",
        "print(saludo.upper())"
      ],
      "execution_count": null,
      "outputs": [
        {
          "output_type": "stream",
          "name": "stdout",
          "text": [
            "HOLA MUNDO!!!\n"
          ]
        }
      ]
    },
    {
      "cell_type": "markdown",
      "metadata": {
        "id": "uoaTw924f4Hb"
      },
      "source": [
        "### Concatenación de Strings\n",
        "\n",
        "Los strings se pueden unir utilizando el operador +"
      ]
    },
    {
      "cell_type": "code",
      "metadata": {
        "colab": {
          "base_uri": "https://localhost:8080/"
        },
        "id": "CsizxjCKf_jj",
        "outputId": "d9b6b1eb-206a-444b-b60a-fb0ea763c3c3"
      },
      "source": [
        "# Unión de cadenas\n",
        "\n",
        "primero = \"Hola\"\n",
        "segundo = \"mundo!\"\n",
        "tercero = \"Bienvenido a la programación\"\n",
        "\n",
        "frase = primero + \" \" + segundo + \" \" + tercero\n",
        "\n",
        "print(frase)"
      ],
      "execution_count": null,
      "outputs": [
        {
          "output_type": "stream",
          "name": "stdout",
          "text": [
            "Hola mundo! Bienvenido a la programación\n"
          ]
        }
      ]
    },
    {
      "cell_type": "markdown",
      "metadata": {
        "id": "QtzNoMBxgoKf"
      },
      "source": [
        "### Repitiendo Strings\n",
        "\n",
        "Mediante el operador *, se pueden repetir cadenas. Los siguientes ejemplos ilustran este punto"
      ]
    },
    {
      "cell_type": "code",
      "metadata": {
        "colab": {
          "base_uri": "https://localhost:8080/"
        },
        "id": "HfUxd3L_gzGT",
        "outputId": "5e0ac8ed-ec1b-4459-b5f5-1027f3727b3c"
      },
      "source": [
        "# Repetición de cadenas\n",
        "\n",
        "print(\"-\" * 12) # Repite 12 veces el signo menos\n",
        "\n",
        "print(\"entendido \" * 5) # Repite 5 veces la palabra \"entendido \""
      ],
      "execution_count": null,
      "outputs": [
        {
          "output_type": "stream",
          "name": "stdout",
          "text": [
            "------------\n",
            "entendido entendido entendido entendido entendido \n"
          ]
        }
      ]
    },
    {
      "cell_type": "markdown",
      "metadata": {
        "id": "ypQpCA1ZhQBU"
      },
      "source": [
        "### Convirtiendo números en cadenas\n",
        "\n",
        "Antes de que se pueda unir (concatenar) un número con una cadena, es necesaro convertir el número en cadena. Esto se logra con la función str(). Véase el ejemplo:"
      ]
    },
    {
      "cell_type": "code",
      "metadata": {
        "colab": {
          "base_uri": "https://localhost:8080/"
        },
        "id": "xCBWAyGOhhMQ",
        "outputId": "97244565-b50b-4b3f-9a2b-12c1ef309753"
      },
      "source": [
        "# Conversión de números en cadenas\n",
        "\n",
        "version = 3\n",
        "\n",
        "print(\"Python \" + str(version) + \" es un potente lenguaje\")"
      ],
      "execution_count": null,
      "outputs": [
        {
          "output_type": "stream",
          "name": "stdout",
          "text": [
            "Python 3 es un potente lenguaje\n"
          ]
        }
      ]
    },
    {
      "cell_type": "markdown",
      "metadata": {
        "id": "pRCMA-zdiOuw"
      },
      "source": [
        "### Dando formato a la salida\n",
        "\n",
        "Llamar al método format () sobre una cadena genera una forma de salida distinta a la que se obtiene de manera simple con el método print(). Para lograr esto se utilizan espacios (placeholders) que son reemplazados con dato específicos. Los espacios están enmarcados por llaves, la que abre y la que cierra, de modo que su contenido se reemplaza con el dato que se encuentra más a la derecha. Posiblemente lo mejor es ver ejemplos que van desde el más simple hasta el más complicado, de manera que se entienda el sentido de dicho proceso."
      ]
    },
    {
      "cell_type": "code",
      "metadata": {
        "colab": {
          "base_uri": "https://localhost:8080/"
        },
        "id": "GE9EnE7q0UXi",
        "outputId": "6a94b83c-a3d1-403e-86b1-b7500dbe9daa"
      },
      "source": [
        "# Primer ejemplo elemental\n",
        "# En este ejemplo se reemplaza el contenido de las llaves con una palabra\n",
        "\n",
        "print(\"{}\" . format(\"Python\"))"
      ],
      "execution_count": null,
      "outputs": [
        {
          "output_type": "stream",
          "name": "stdout",
          "text": [
            "Python\n"
          ]
        }
      ]
    },
    {
      "cell_type": "markdown",
      "metadata": {
        "id": "Ws4D7EYI04EN"
      },
      "source": [
        "### Explicación\n",
        "\n",
        "En el ejemplo mostrado se utiliza la instrucción print(). Como se aprecia, dentro de print() se dispone de una cadena: \"{}\", seguida por el operador punto (.) y a continuación la instrucción format dentro de la cual hay un string: \"Python\".\n",
        "\n",
        "Python hace lo siguiente:\n",
        "\n",
        "1) Reemplaza el contenido de las llaves por el dato que se encuentre entre los paréntesis de: .format()\n",
        "\n",
        "2) El reemplazo, por tanto, toma la palabra \"Python\" y la coloca en lugar de las llaves. Al hacerlo, print() imprime en pantalla la palabra: Python\n",
        "\n",
        "En el siguiente ejemplo se verá que al colocar varias llaves, una después de otra, Python simplemente reemplazar cada llave con la información que se va encontrando dentro de format(). Observe con cuidado el ejemplo:"
      ]
    },
    {
      "cell_type": "code",
      "metadata": {
        "colab": {
          "base_uri": "https://localhost:8080/"
        },
        "id": "_5CwgGoZ2FMk",
        "outputId": "e82f2d0c-75b6-4e6a-c6a3-1a1878466769"
      },
      "source": [
        "# Ejemplo con varias llaves\n",
        "\n",
        "print(\"{} {} {}\" . format(\"Python\", \"es\", \"muy potente\"))"
      ],
      "execution_count": null,
      "outputs": [
        {
          "output_type": "stream",
          "name": "stdout",
          "text": [
            "Python es muy potente\n"
          ]
        }
      ]
    },
    {
      "cell_type": "markdown",
      "metadata": {
        "id": "3_NKoXvI2cf8"
      },
      "source": [
        "### Explicación\n",
        "\n",
        "Como se puede apreciar, la primera llave se reemplaza con el string: Python, la segunda llave se reemplaza con el string: es, y finalmente la tercera llave es reemplazada con el string: \"muy potente\". Observe además que los ítems dentro de format deben estar separados por comas"
      ]
    },
    {
      "cell_type": "code",
      "metadata": {
        "colab": {
          "base_uri": "https://localhost:8080/"
        },
        "id": "BMUgwrcLPA9Z",
        "outputId": "eaf6a7a7-c4d9-4456-d255-3fc5a4db7d66"
      },
      "source": [
        "# Los términos dentro del format se encuentra numerados. Esto significa, en el\n",
        "# ejemplo anterior, que la cadena \"Python\" ocupa la posición cero, la cadena\n",
        "# \"es\" ocupa la segunda posición y, finalmente, la cadena \"muy potente\" ocupa\n",
        "# la tercera posición\n",
        "\n",
        "# En la modalidad de formato, la primera posición se representa como: {0},\n",
        "# y las siguientes, así: {1} {2}\n",
        "\n",
        "# Esta característica se puede utilizar para lograr interesantes efectos\n",
        "# Considere el siguiente ejemplo\n",
        "\n",
        "print(\"El lenguaje {0} es muy {1}. Con {0} se logra {2}\".format(\"Python\", \"potente\", \"funcionalidad\"))"
      ],
      "execution_count": null,
      "outputs": [
        {
          "output_type": "stream",
          "name": "stdout",
          "text": [
            "El lenguaje Python es muy potente. Con Python se logra funcionalidad\n"
          ]
        }
      ]
    },
    {
      "cell_type": "code",
      "metadata": {
        "colab": {
          "base_uri": "https://localhost:8080/"
        },
        "id": "avjSkeAGRL0w",
        "outputId": "fd854788-bbed-46a1-9477-35ad255b12c9"
      },
      "source": [
        "# La técnica de formato hace innecesario (si así se desea) de evitar el uso de str()\n",
        "\n",
        "version = 3\n",
        "print(\"Python {0} está siendo utilizado\".format(version))"
      ],
      "execution_count": null,
      "outputs": [
        {
          "output_type": "stream",
          "name": "stdout",
          "text": [
            "Python 3 está siendo utilizado\n"
          ]
        }
      ]
    },
    {
      "cell_type": "markdown",
      "metadata": {
        "id": "2RFaVEY6R5DQ"
      },
      "source": [
        "### Dando estructura al formato\n",
        "\n",
        "Cuando sea necesario, también puede proporcionar una especificación de formato utilizando para ello elementos numéricos entre las llaves. El mecanismo consiste en escribir dentro de las llaves dos números separados por dos puntos. El primer número hace referencia a cual de las cadenas se está utilizando. El segundo número indica el número de espacios que serán utilizadas en la pantalla por dicho dato. Por ejempplo, si el formato es:{0:9}, esto se traduce como: \"use el primer valor proporcionado para format () y conviértalo en al menos nueve caracteres de ancho \". El campo de formato {1:8} significa: \"use el segundo valor proporcionado para format () y utilice al menos ocho caracteres de ancho \". Este método puede ser útil en muchos casos, incluida la creación de tablas"
      ]
    },
    {
      "cell_type": "code",
      "metadata": {
        "colab": {
          "base_uri": "https://localhost:8080/"
        },
        "id": "umgcF7KXTE5-",
        "outputId": "7501db87-8981-4732-c0e9-d15dea5f6f6a"
      },
      "source": [
        "print('{0:9} | {1:8}'.format('Vegetal', 'Cantidad'))  # Encabezado de la tabla\n",
        "print('{0:9} | {1:8}'.format('Tomate', 3))              # Primera fila de la tabla\n",
        "print('{0:9} | {1:8}'.format('Zanahoria', 10))          # Segunda fila de la tabla\n",
        "\n",
        "# NOTA: La barra vertical dentro la cadena se imprime directamente en la pantalla\n"
      ],
      "execution_count": null,
      "outputs": [
        {
          "output_type": "stream",
          "name": "stdout",
          "text": [
            "Vegetales | Cantidad\n",
            "Tomate    |        3\n",
            "Zanahoria |       10\n"
          ]
        }
      ]
    },
    {
      "cell_type": "markdown",
      "metadata": {
        "id": "5XWVOCDET9MH"
      },
      "source": [
        "### Control de posición en el formato\n",
        "\n",
        "Para controlar la alineación del texto, utilice siempre < para la izquierda,  ^ para el centro y > para la derecha. Si no se indica en particular, siempre se asumirá la alineación a la izquierda. Observe el siguiente ejemplo:"
      ]
    },
    {
      "cell_type": "code",
      "metadata": {
        "colab": {
          "base_uri": "https://localhost:8080/"
        },
        "id": "5Cv_XwplUTGB",
        "outputId": "d73a8131-dcad-478f-af85-67a5aa0fcc9a"
      },
      "source": [
        "print('{0:^9} | {1:^8}'.format('Vegetal', 'Cantidad'))\n",
        "print('{0:>9} | {1:<8}'.format('Tomate', 3))\n",
        "print('{0:>9} | {1:<8}'.format('Zanahoria', 10))\n"
      ],
      "execution_count": null,
      "outputs": [
        {
          "output_type": "stream",
          "name": "stdout",
          "text": [
            " Vegetal  | Cantidad\n",
            "   Tomate | 3       \n",
            "Zanahoria | 10      \n"
          ]
        }
      ]
    },
    {
      "cell_type": "markdown",
      "metadata": {
        "id": "BxA7lzlYU41H"
      },
      "source": [
        "### Tipos de dato utilizados en el formato\n",
        "\n",
        "Si es necesario, también puede especificar un tipo de dato. El ejemplo más común de esto es usar f, que\n",
        "representa un número decimal. Los float, o números de punto flotante, se tratarán en profundidad más adelante.\n",
        "Además, puede estipular el número de lugares decimales utilizando .Nf donde N es el número de decimales\n",
        "a utilizar. Un formato de moneda común sería .2f, que especifica dos lugares decimales. Veamos un ejemplo concreto"
      ]
    },
    {
      "cell_type": "code",
      "metadata": {
        "colab": {
          "base_uri": "https://localhost:8080/"
        },
        "id": "AWUCHlAJVWRK",
        "outputId": "d43bb00e-06b0-4648-ecb5-4abc8abf2afa"
      },
      "source": [
        "print('{0:9} | {1:<8}'.format('Vegetal', 'Cantidad'))\n",
        "print('{0:9} | {1:<8.2f}'.format('Tomate', 2.33333))\n",
        "print('{0:9} | {1:<8.2f}'.format('Zanahoria', 10))"
      ],
      "execution_count": null,
      "outputs": [
        {
          "output_type": "stream",
          "name": "stdout",
          "text": [
            "Vegetal   | Cantidad\n",
            "Tomate    | 2.33    \n",
            "Zanahoria | 10.00   \n"
          ]
        }
      ]
    },
    {
      "cell_type": "markdown",
      "metadata": {
        "id": "v1sp5unKWJ2w"
      },
      "source": [
        "### Entrada de usuario\n",
        "\n",
        "Para introducir información por teclado (forma estándar de entrada de datos) se utiliza la función: input(). Observe el siguiente ejemplo:"
      ]
    },
    {
      "cell_type": "code",
      "metadata": {
        "colab": {
          "base_uri": "https://localhost:8080/"
        },
        "id": "fSVm2Y_bVz--",
        "outputId": "64d35932-bce8-4d39-95ec-3ce5899bd048"
      },
      "source": [
        "vegetal = input(\"Introduzca el nombre de un vegetal: \")\n",
        "print(\"El {0} es un vegetal muy saludable\".format(vegetal))"
      ],
      "execution_count": null,
      "outputs": [
        {
          "output_type": "stream",
          "name": "stdout",
          "text": [
            "Introduzca el nombre de un vegetal: Tomate\n",
            "El Tomate es un vegetal muy saludable\n"
          ]
        }
      ]
    },
    {
      "cell_type": "markdown",
      "metadata": {
        "id": "xRItNRbwXQwA"
      },
      "source": [
        "## Números, matemática y comentarios"
      ]
    },
    {
      "cell_type": "markdown",
      "metadata": {
        "id": "40uE-440Xb6-"
      },
      "source": [
        "### Números enteros y decimales"
      ]
    },
    {
      "cell_type": "code",
      "metadata": {
        "colab": {
          "base_uri": "https://localhost:8080/"
        },
        "id": "VS1cnuCHXfeA",
        "outputId": "39e1848d-f61a-46e6-bab0-b5b735ddb6e0"
      },
      "source": [
        "# Número Entero\n",
        "altura = 70\n",
        "\n",
        "# Número Decimal\n",
        "temperatura = 23.5\n",
        "\n",
        "print(altura)\n",
        "print(temperatura)"
      ],
      "execution_count": null,
      "outputs": [
        {
          "output_type": "stream",
          "name": "stdout",
          "text": [
            "70\n",
            "23.5\n"
          ]
        }
      ]
    },
    {
      "cell_type": "markdown",
      "metadata": {
        "id": "-8v1kSJ1YE5e"
      },
      "source": [
        "### Operaciones numéricas\n",
        "\n",
        "- Suma: +\n",
        "- Resta: -\n",
        "- Multiplicación: *\n",
        "- División: /\n",
        "- Exponenciación: **\n",
        "- Módulo: % (devuelve lo que sobre en una división)\n",
        "\n",
        "Veamos algunos ejemplos"
      ]
    },
    {
      "cell_type": "code",
      "metadata": {
        "colab": {
          "base_uri": "https://localhost:8080/"
        },
        "id": "xWbFMr3VYjJJ",
        "outputId": "776299c9-2db4-4f71-9d1e-ed70695a1c9c"
      },
      "source": [
        "suma = 3 + 2\n",
        "diferencia = 88 - 2\n",
        "producto = 4 * 2\n",
        "division = 16 / 4\n",
        "potencia = 3 ** 5   # 3 elevado a la 5 = 3*3*3*3*3\n",
        "remanente = 7 % 3   # lo que sobra de la división entre 7 y 3\n",
        "\n",
        "print('Suma: {}'.format(suma))\n",
        "print('Diferencia: {}'.format(diferencia))\n",
        "print('Producto: {}'.format(producto))\n",
        "print('División: {}'.format(division))\n",
        "print('Potencia: {}'.format(potencia))\n",
        "print('Remanente: {}'.format(remanente))\n"
      ],
      "execution_count": null,
      "outputs": [
        {
          "output_type": "stream",
          "name": "stdout",
          "text": [
            "Suma: 5\n",
            "Diferencia: 86\n",
            "Producto: 8\n",
            "División: 4.0\n",
            "Potencia: 243\n",
            "Remanente: 1\n"
          ]
        }
      ]
    },
    {
      "cell_type": "markdown",
      "metadata": {
        "id": "R2DGViYfeOS8"
      },
      "source": [
        "### Funciones int() y float()"
      ]
    },
    {
      "cell_type": "code",
      "metadata": {
        "colab": {
          "base_uri": "https://localhost:8080/"
        },
        "id": "55QmQDmTeSiy",
        "outputId": "6ed81fb5-c6a7-4960-abd1-36fa2935313a"
      },
      "source": [
        "# La función int() convierte un string en un entero\n",
        "\n",
        "cantidad_cadena = \"45\"\n",
        "precio = 500\n",
        "\n",
        "total = int(cantidad_cadena) * precio\n",
        "\n",
        "print(total)"
      ],
      "execution_count": null,
      "outputs": [
        {
          "output_type": "stream",
          "name": "stdout",
          "text": [
            "22500\n"
          ]
        }
      ]
    },
    {
      "cell_type": "code",
      "metadata": {
        "colab": {
          "base_uri": "https://localhost:8080/"
        },
        "id": "6JXo63fMet66",
        "outputId": "fbc9ffe9-f8f4-4954-d4c6-f495f491e627"
      },
      "source": [
        "# La función float() conviete una cadena en un número decimal\n",
        "\n",
        "valor_string = \"23.5\"\n",
        "mitad = float(valor_string) / 2\n",
        "\n",
        "print(mitad)"
      ],
      "execution_count": null,
      "outputs": [
        {
          "output_type": "stream",
          "name": "stdout",
          "text": [
            "11.75\n"
          ]
        }
      ]
    },
    {
      "cell_type": "markdown",
      "metadata": {
        "id": "xBZz6gu4fVlF"
      },
      "source": [
        "### Comentarios\n",
        "\n",
        "Los comentarios en Python son textos que se agregan al código, pero que no son ejecutables. Los comentarios son de dos tipós:\n",
        "\n",
        "- Comentario de línea. Se identifica porque va precedido del signo #, del cual se tienen muchos ejemplos en este documento\n",
        "\n",
        "- Comentarios de bloque. Son comentarios de varias líneas. En este documento no se han utilizado, pero se caracerizan porque se utilizan los símbolos de apertura y de cierre: \"\"\". Un ejemplo:"
      ]
    },
    {
      "cell_type": "code",
      "metadata": {
        "colab": {
          "base_uri": "https://localhost:8080/"
        },
        "id": "rQzq2uChf31w",
        "outputId": "3f9e38a2-0818-408a-a858-44f97ce09b1c"
      },
      "source": [
        "\"\"\"\n",
        "Este es un comentario\n",
        "de varias líneas (bloque)\n",
        "La apertura y el cierre tienen un símbolo igual\n",
        "\"\"\"\n",
        "\n",
        "print(\"Hola Mundo!\")  # Este es un comentario de línea"
      ],
      "execution_count": null,
      "outputs": [
        {
          "output_type": "stream",
          "name": "stdout",
          "text": [
            "Hola Mundo!\n"
          ]
        }
      ]
    }
  ]
}