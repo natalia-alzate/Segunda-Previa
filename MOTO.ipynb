{
  "nbformat": 4,
  "nbformat_minor": 0,
  "metadata": {
    "colab": {
      "name": "MOTO.ipynb",
      "provenance": [],
      "collapsed_sections": [],
      "authorship_tag": "ABX9TyNc3RgdHsmcNu+Z2civnb23",
      "include_colab_link": true
    },
    "kernelspec": {
      "name": "python3",
      "display_name": "Python 3"
    },
    "language_info": {
      "name": "python"
    }
  },
  "cells": [
    {
      "cell_type": "markdown",
      "metadata": {
        "id": "view-in-github",
        "colab_type": "text"
      },
      "source": [
        "<a href=\"https://colab.research.google.com/github/natalia-alzate/Segunda-Previa/blob/main/MOTO.ipynb\" target=\"_parent\"><img src=\"https://colab.research.google.com/assets/colab-badge.svg\" alt=\"Open In Colab\"/></a>"
      ]
    },
    {
      "cell_type": "markdown",
      "metadata": {
        "id": "LVq_IptzqgeK"
      },
      "source": [
        "##Desarrollo creación de clase para generar objeto MOTO"
      ]
    },
    {
      "cell_type": "code",
      "metadata": {
        "colab": {
          "base_uri": "https://localhost:8080/"
        },
        "id": "XaVMW73yqwMc",
        "outputId": "1feed6fb-3a85-4625-8d1d-175e9c515cb9"
      },
      "source": [
        "class Moto:\n",
        "  cantidad_llantas = 2 #Variable de clase, carecterística común\n",
        "  def __init__(self, marca, modelo, cilindraje, color, placa): #Estos identificadores guardarán la información de nuestro objeto\n",
        "    self.marca = marca\n",
        "    self.modelo = modelo\n",
        "    self.cilindraje = cilindraje\n",
        "    self.color = color\n",
        "    self.placa = placa\n",
        "  def arrancar(self):\n",
        "    print(\"Brruuummmm...\")\n",
        "  def get_marca(self):\n",
        "    print(\"La marca de la moto es:\", self.marca)\n",
        "  def get_modelo(self):\n",
        "    print(\"El modelo de la moto es:\", self.modelo)\n",
        "  def get_cilindraje(self):\n",
        "    print(\"Su cilindraje es:\", self.cilindraje)\n",
        "  def get_color(self):\n",
        "    print(\"El color es:\", self.color)\n",
        "  def get_placa(self):\n",
        "    print(\"Su placa identificadora es:\", self.placa)\n",
        "\n",
        "M = Moto(\"Benelli\", \"302R 2021\", \"300cc\", \"Rojo\", \"RJS 742\")\n",
        "\n",
        "M.arrancar()\n",
        "\n",
        "M.get_marca()\n",
        "M.get_modelo()\n",
        "M.get_cilindraje()\n",
        "M.get_color()\n",
        "M.get_placa()\n",
        "print(\"Cantidad de llantas:\", M.cantidad_llantas)"
      ],
      "execution_count": null,
      "outputs": [
        {
          "output_type": "stream",
          "name": "stdout",
          "text": [
            "Brruuummmm...\n",
            "La marca de la moto es: Benelli\n",
            "El modelo de la moto es: 302R 2021\n",
            "Su cilindraje es: 300cc\n",
            "El color es: Rojo\n",
            "Su placa identificadora es: RJS 742\n",
            "Cantidad de llantas: 2\n"
          ]
        }
      ]
    }
  ]
}