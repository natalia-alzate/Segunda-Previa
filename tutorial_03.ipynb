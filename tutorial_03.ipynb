{
  "nbformat": 4,
  "nbformat_minor": 0,
  "metadata": {
    "colab": {
      "name": "tutorial-03.ipynb",
      "provenance": [],
      "collapsed_sections": [],
      "include_colab_link": true
    },
    "kernelspec": {
      "name": "python3",
      "display_name": "Python 3"
    },
    "language_info": {
      "name": "python"
    }
  },
  "cells": [
    {
      "cell_type": "markdown",
      "metadata": {
        "id": "view-in-github",
        "colab_type": "text"
      },
      "source": [
        "<a href=\"https://colab.research.google.com/github/natalia-alzate/Segunda-Previa/blob/main/tutorial_03.ipynb\" target=\"_parent\"><img src=\"https://colab.research.google.com/assets/colab-badge.svg\" alt=\"Open In Colab\"/></a>"
      ]
    },
    {
      "cell_type": "markdown",
      "metadata": {
        "id": "-lvwh-5zsXZx"
      },
      "source": [
        "## Python - Tutorial 03"
      ]
    },
    {
      "cell_type": "markdown",
      "metadata": {
        "id": "BT3C11BEsbL2"
      },
      "source": [
        "## Funciones\n",
        "\n",
        "Entre los programadores de computadoras hay un concepto importante que consiste en no duplicar trabajo. En lugar de repetir varias líneas de código cada vez que desee realizar una tarea en particular, utilice una\n",
        "función que le permitirá escribir un bloque de código Python una sola vez y luego utilizarlo muchas otras veces. Esto puede ayudar a reducir la extensión total de sus programas, así como brindarle un sitio único para cambiar, probar, solucionar problemas y documentar cualquier tarea determinada. En última instancia, esto hace que su aplicación sea mucho más fácil de mantener a largo plazo.\n",
        "\n",
        "Para crear una función, use la palabra clave def seguida del nombre de la función. Siempre siga el nombre de la función con un par de paréntesis. Si su función acepta parámetros, puede incluir el nombres de esos parámetros entre paréntesis, separándolos con comas. Finalmente, concluya la línea de definición de función con dos puntos (:). El bloque de código que sigue a la definición de la función se ejecutará cada vez que se llame a la función. Debe notarse que todas las instrucciones dentro de la función deben escribirse hacia la derecha (identarse). El patrón es def nombre_funcion () :. La siguiente es una\n",
        "función muy sencilla."
      ]
    },
    {
      "cell_type": "code",
      "metadata": {
        "id": "SxqXRvZFsWiY"
      },
      "source": [
        "# Definir la función de saludo\n",
        "\n",
        "def saludo():\n",
        "  print(\"Hola\")"
      ],
      "execution_count": null,
      "outputs": []
    },
    {
      "cell_type": "markdown",
      "metadata": {
        "id": "99n3zUH5tz9r"
      },
      "source": [
        "## Ejecutando una función\n",
        "\n",
        "Definir una función es el primer paso. Si quiere ver la función \"en acción\", debe llamarla. Esto se ve en el siguiente ejemplo."
      ]
    },
    {
      "cell_type": "code",
      "metadata": {
        "colab": {
          "base_uri": "https://localhost:8080/"
        },
        "id": "08f5MVgsuEYE",
        "outputId": "71b9d4db-8bde-4465-93e0-f1f04a8c94f5"
      },
      "source": [
        "# Definir y ejecutar la función de saludo\n",
        "\n",
        "def saludo():\n",
        "  print(\"Hola\")\n",
        "\n",
        "saludo()      # Observe los paréntesis al final del llamado a la función"
      ],
      "execution_count": null,
      "outputs": [
        {
          "output_type": "stream",
          "name": "stdout",
          "text": [
            "Hola\n"
          ]
        }
      ]
    },
    {
      "cell_type": "markdown",
      "metadata": {
        "id": "8urzVU10vIYy"
      },
      "source": [
        "## Parámetros\n",
        "\n",
        "Las funciones pueden recibir datos. Esta es una manera inteligente de hacer que las funciones se comporten de manera dinámica. Ejemplo."
      ]
    },
    {
      "cell_type": "code",
      "metadata": {
        "colab": {
          "base_uri": "https://localhost:8080/"
        },
        "id": "ec3p2zCzvH4z",
        "outputId": "f367693b-c705-461d-d577-108d47b01c59"
      },
      "source": [
        "# Función que recibe un nombre\n",
        "\n",
        "def saludo(nombre):\n",
        "  print(\"Hola \" + nombre)       # Saluda, según el nombre recibido\n",
        "\n",
        "saludo(\"Juan\")\n",
        "saludo(\"Carlos\")\n",
        "saludo(\"Ana\")"
      ],
      "execution_count": null,
      "outputs": [
        {
          "output_type": "stream",
          "name": "stdout",
          "text": [
            "Hola Juan\n",
            "Hola Carlos\n",
            "Hola Ana\n"
          ]
        }
      ]
    },
    {
      "cell_type": "code",
      "metadata": {
        "colab": {
          "base_uri": "https://localhost:8080/"
        },
        "id": "-KXuJlvgvuaw",
        "outputId": "94e53937-3815-43da-d20a-55b72fffe48b"
      },
      "source": [
        "# Función que recibe varios parámetros\n",
        "\n",
        "def saludo(nombre, apellido):\n",
        "  print(\"Hola {} {}\".format(nombre, apellido))\n",
        "\n",
        "saludo(\"Ana\", \"Vanegas\")"
      ],
      "execution_count": null,
      "outputs": [
        {
          "output_type": "stream",
          "name": "stdout",
          "text": [
            "Hola Ana Vanegas\n"
          ]
        }
      ]
    },
    {
      "cell_type": "markdown",
      "metadata": {
        "id": "PpxhyJ2HwPeU"
      },
      "source": [
        "## Valores por defecto\n",
        "\n",
        "Cuando se reciben parámetros, es posible prepararse para el caso en el cual no se reciba un determinado parámetro. El siguiente ejemplo ilustra esta posibilidad."
      ]
    },
    {
      "cell_type": "code",
      "metadata": {
        "colab": {
          "base_uri": "https://localhost:8080/"
        },
        "id": "fDPuXvEKwbYu",
        "outputId": "6586c64c-7f18-4a32-8755-f5520e199a74"
      },
      "source": [
        "# Parámetros por defecto\n",
        "\n",
        "def saludo(nombre, apellido = \"OJO! falta tu apellido\"):\n",
        "  print(\"Hola {} {}\".format(nombre, apellido))\n",
        "\n",
        "saludo(\"Juan\", \"Valencia\")\n",
        "saludo(\"Carlos\")"
      ],
      "execution_count": null,
      "outputs": [
        {
          "output_type": "stream",
          "name": "stdout",
          "text": [
            "Hola Juan Valencia\n",
            "Hola Carlos OJO! falta tu apellido\n"
          ]
        }
      ]
    },
    {
      "cell_type": "markdown",
      "metadata": {
        "id": "LqL6e53MxNNq"
      },
      "source": [
        "## Funciones que retornan valores\n",
        "\n",
        "Las funciones pueden retornar valores. La palabra 'return' se utiliza para devolver el valor retornado por la función. Observe los siguientes ejemplos."
      ]
    },
    {
      "cell_type": "code",
      "metadata": {
        "colab": {
          "base_uri": "https://localhost:8080/"
        },
        "id": "FDYNsDdaxdOF",
        "outputId": "d7b347c0-35ee-48dd-c1c8-5d6da7d33dc8"
      },
      "source": [
        "# Función que devuelve la suma de dos números\n",
        "\n",
        "def suma(a, b):\n",
        "  return a + b\n",
        "\n",
        "print(suma(5, 6))"
      ],
      "execution_count": null,
      "outputs": [
        {
          "output_type": "stream",
          "name": "stdout",
          "text": [
            "11\n"
          ]
        }
      ]
    },
    {
      "cell_type": "code",
      "metadata": {
        "colab": {
          "base_uri": "https://localhost:8080/"
        },
        "id": "gu2hC4Fxx_bg",
        "outputId": "b2888e6e-d5c1-4572-cf62-4e388c4eb1dc"
      },
      "source": [
        "# Función que verifica si un número es par o impar\n",
        "# Un número es par si al dividirlo entre 2, el remanente (%) es cero\n",
        "\n",
        "def par(numero):\n",
        "  if numero % 2 == 0:\n",
        "    return True\n",
        "  else:\n",
        "    return False\n",
        "\n",
        "if par(8):\n",
        "  print(\"El número 8 es par\")"
      ],
      "execution_count": null,
      "outputs": [
        {
          "output_type": "stream",
          "name": "stdout",
          "text": [
            "El número 8 es par\n"
          ]
        }
      ]
    },
    {
      "cell_type": "code",
      "metadata": {
        "colab": {
          "base_uri": "https://localhost:8080/"
        },
        "id": "NWHOw7Uiyi2U",
        "outputId": "86f4e53f-1c94-407c-f437-343b261a08e2"
      },
      "source": [
        "# Generalización del anterior ejemplo\n",
        "\n",
        "def par(numero):\n",
        "  if numero % 2 == 0:\n",
        "    return True\n",
        "  else:\n",
        "    return False\n",
        "\n",
        "dato = input(\"Introduzca un número entero: \")\n",
        "if par(int(dato)):\n",
        "  print(\"El número {} es par\".format(dato))\n",
        "else:\n",
        "  print(\"El número {} es impar\".format(dato))"
      ],
      "execution_count": null,
      "outputs": [
        {
          "output_type": "stream",
          "name": "stdout",
          "text": [
            "Introduzca un número entero: 9\n",
            "El número 9 es impar\n"
          ]
        }
      ]
    },
    {
      "cell_type": "code",
      "metadata": {
        "colab": {
          "base_uri": "https://localhost:8080/"
        },
        "id": "Lhkb5mOzzE9T",
        "outputId": "2bf809bd-37ae-4b0b-9cfc-7a101f71ebd6"
      },
      "source": [
        "# Función que no recibe ningún dato, y devuelve información\n",
        "\n",
        "def preguntar_nombre():\n",
        "  nom = input(\"Por favor, ¿cuál es su nombre?: \")\n",
        "  return nom\n",
        "\n",
        "nombre_persona = preguntar_nombre()\n",
        "\n",
        "print(\"Hola {}\".format(nombre_persona))\n"
      ],
      "execution_count": null,
      "outputs": [
        {
          "output_type": "stream",
          "name": "stdout",
          "text": [
            "Por favor, ¿cuál es su nombre?: Juan\n",
            "Hola Juan\n"
          ]
        }
      ]
    }
  ]
}