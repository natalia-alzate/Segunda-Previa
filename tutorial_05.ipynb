{
  "nbformat": 4,
  "nbformat_minor": 0,
  "metadata": {
    "colab": {
      "name": "tutorial-05.ipynb",
      "provenance": [],
      "collapsed_sections": [],
      "include_colab_link": true
    },
    "kernelspec": {
      "name": "python3",
      "display_name": "Python 3"
    },
    "language_info": {
      "name": "python"
    }
  },
  "cells": [
    {
      "cell_type": "markdown",
      "metadata": {
        "id": "view-in-github",
        "colab_type": "text"
      },
      "source": [
        "<a href=\"https://colab.research.google.com/github/natalia-alzate/Segunda-Previa/blob/main/tutorial_05.ipynb\" target=\"_parent\"><img src=\"https://colab.research.google.com/assets/colab-badge.svg\" alt=\"Open In Colab\"/></a>"
      ]
    },
    {
      "cell_type": "markdown",
      "metadata": {
        "id": "eEwNsSPUrxMI"
      },
      "source": [
        "### Python - Tutorial 05"
      ]
    },
    {
      "cell_type": "markdown",
      "metadata": {
        "id": "CE59DXjYr7I-"
      },
      "source": [
        "## Diccionarios\n",
        "\n",
        "Otro tipo de datos en Python es un diccionario. Un diccionario contiene pares clave-valor, que se denominan\n",
        "elementos. Escuchará referencias a los diccionarios de diferentes formas, entre las que se incluyen: matrices asociativas, hashes o tablas hash.\n",
        "\n",
        "Los diccionarios se generan utilizando elementos separados por comas rodeados por llaves. El componente comienza con una clave seguida por dos puntos, y seguidamente un valor. El patrón es: nombre_diccionario = \n",
        "{clave_1: valor_1, clave_N: valor_N}. \n",
        "\n",
        "Para crear un diccionario vacío, utilice nombre_diccionario = {}.\n",
        "\n",
        "Todos los elementos de un diccionario se pueden recuperar mediante la clave. Para hacerlo, encierre la clave entre corchetes inmediatamente después del nombre del diccionario. El patrón es: nombre_de_ diccionario [clave].\n",
        "\n",
        "Veamos algunos ejemplos."
      ]
    },
    {
      "cell_type": "code",
      "metadata": {
        "colab": {
          "base_uri": "https://localhost:8080/"
        },
        "id": "0P0lMothroo3",
        "outputId": "2f98a0f3-4d94-40b4-a3ba-03c72c3df894"
      },
      "source": [
        "# Creación de un diccionario\n",
        "\n",
        "contactos = {'David': '555-0123', 'Juan': '555-5678'}\n",
        "\n",
        "telefono_david = contactos['David']\n",
        "telefono_juan  = contactos['Juan']\n",
        "\n",
        "print('Número {} para llamar a David: '.format(telefono_david))\n",
        "print('Número {} para llamar a Juan: '.format(telefono_juan))"
      ],
      "execution_count": null,
      "outputs": [
        {
          "output_type": "stream",
          "name": "stdout",
          "text": [
            "Número 555-0123 para llamar a David: \n",
            "Número 555-5678 para llamar a Juan: \n"
          ]
        }
      ]
    },
    {
      "cell_type": "markdown",
      "metadata": {
        "id": "MEiWIch6LF4R"
      },
      "source": [
        "## Agregando elementos al diccionario\n",
        "\n",
        "Tenga en cuenta que puede agregar fácilmente nuevos elementos a un diccionario a través del proceso de asignación. El patrón para este proceso es: nombre_de_ diccionario [clave_nueva] = valor. \n",
        "\n",
        "Para determinar el número de elementos en\n",
        "un diccionario, primero use la función incorporada len() utilizando como parámetro el diccionario. Ver ejemplo."
      ]
    },
    {
      "cell_type": "code",
      "metadata": {
        "colab": {
          "base_uri": "https://localhost:8080/"
        },
        "id": "ebXlmCFBLm0c",
        "outputId": "8c4e1cd1-7029-4c2b-ee09-c3af15208980"
      },
      "source": [
        "# Creación de un diccionario\n",
        "\n",
        "contactos = {'David': '555-0123', 'Juan': '555-5678'}\n",
        "contactos['Ana'] = '555-1428'\n",
        "\n",
        "print(contactos)\n",
        "print(len(contactos))"
      ],
      "execution_count": null,
      "outputs": [
        {
          "output_type": "stream",
          "name": "stdout",
          "text": [
            "{'David': '555-0123', 'Juan': '555-5678', 'Ana': '555-1428'}\n",
            "3\n"
          ]
        }
      ]
    },
    {
      "cell_type": "markdown",
      "metadata": {
        "id": "JDyxktO1MhcN"
      },
      "source": [
        "## Eliminando elementos de un diccionario\n",
        "\n",
        "Para eliminar un elemento de un diccionario, use la instrucción del. El patrón es: del\n",
        "nombre de diccionario [clave]."
      ]
    },
    {
      "cell_type": "code",
      "metadata": {
        "colab": {
          "base_uri": "https://localhost:8080/"
        },
        "id": "BaiHpcHiMrjI",
        "outputId": "1394505c-573b-4ec0-e322-e66556809cdb"
      },
      "source": [
        "# Creación de un diccionario\n",
        "\n",
        "contactos = {'David': '555-0123', 'Juan': '555-5678', 'Teresa': '555-1428'}\n",
        "\n",
        "del contactos['Juan']\n",
        "\n",
        "print(contactos)"
      ],
      "execution_count": null,
      "outputs": [
        {
          "output_type": "stream",
          "name": "stdout",
          "text": [
            "{'David': '555-0123', 'Teresa': '555-1428'}\n"
          ]
        }
      ]
    },
    {
      "cell_type": "markdown",
      "metadata": {
        "id": "s1neh-ZlNJZ4"
      },
      "source": [
        "## Elementos diversos en el diccionario\n",
        "\n",
        "Tenga en cuenta que los valores de un diccionario no tienen que ser del mismo tipo de datos. En el siguiente ejemplo, verá que si bien el valor de la clave David es una lista, el valor de la clave Juan y Teresa es un número (en forma de cadena)"
      ]
    },
    {
      "cell_type": "code",
      "metadata": {
        "colab": {
          "base_uri": "https://localhost:8080/"
        },
        "id": "6ntk3fszNcuM",
        "outputId": "89a2c366-5400-4e08-9f9f-69a6761685c9"
      },
      "source": [
        "# Creación de un diccionario\n",
        "\n",
        "contactos = {\n",
        "    'David': ['555-0123', '555-1933'],\n",
        "    'Juan': '555-5678', \n",
        "    'Teresa': '555-1428'\n",
        "}\n",
        "\n",
        "print(contactos)"
      ],
      "execution_count": null,
      "outputs": [
        {
          "output_type": "stream",
          "name": "stdout",
          "text": [
            "{'David': ['555-0123', '555-1933'], 'Juan': '555-5678', 'Teresa': '555-1428'}\n"
          ]
        }
      ]
    },
    {
      "cell_type": "markdown",
      "metadata": {
        "id": "dmVsyEqxP9EG"
      },
      "source": [
        "Cuando asigne los elementos al diccionario de contactos, puede utilizar espacios adicionales, ya que\n",
        "mejoran en gran medida la legibilidad del código.\n",
        "Como resultado del hecho de que nombre_diccionario(\"nombre-clave\") es capaz de almacenar su valor asociado,\n",
        "puede actuar sobre él como lo haría con los valores reales. Para ilustrar esto, usemos un ciclo for para todos los números telefónicos de David."
      ]
    },
    {
      "cell_type": "code",
      "metadata": {
        "colab": {
          "base_uri": "https://localhost:8080/"
        },
        "id": "rWD_OI4aQRUG",
        "outputId": "c9fbfdd9-6604-480b-cd2e-9cfe996243c6"
      },
      "source": [
        "# Creación de un diccionario\n",
        "\n",
        "contactos = {\n",
        "    'David': ['555-0123', '555-1933'],\n",
        "    'Juan': '555-5678', \n",
        "    'Teresa': '555-1428'\n",
        "}\n",
        "\n",
        "for numero in contactos['David']:\n",
        " print('Teléfono: {}'.format(numero))\n"
      ],
      "execution_count": null,
      "outputs": [
        {
          "output_type": "stream",
          "name": "stdout",
          "text": [
            "Teléfono: 555-0123\n",
            "Teléfono: 555-1933\n"
          ]
        }
      ]
    },
    {
      "cell_type": "markdown",
      "metadata": {
        "id": "K0QqJVfQQwwB"
      },
      "source": [
        "## Encontrando una clave en un diccionario\n",
        "\n",
        "Si desea saber si una determinada clave existe dentro de un diccionario, use: **valor in nombre_diccionario.keys()**. Si el valor es de hecho una clave en el diccionario, se devolverá True. Si no lo es, entonces se devolverá False"
      ]
    },
    {
      "cell_type": "code",
      "metadata": {
        "colab": {
          "base_uri": "https://localhost:8080/"
        },
        "id": "I9PlkmP-ROax",
        "outputId": "7325baec-d08d-4948-aec1-659bc36e02cd"
      },
      "source": [
        "# Creación de un diccionario\n",
        "\n",
        "contactos = {\n",
        "    'David': ['555-0123', '555-1933'],\n",
        "    'Juan': '555-5678', \n",
        "    'Teresa': '555-1428'\n",
        "}\n",
        "\n",
        "if 'David' in contactos.keys():\n",
        " print(\"El número telefónico de David es: \")\n",
        " print(contactos['David'][0])   # Observe que se utiliza la primera posición de la lista de teléfonos de David\n",
        "\n",
        "if 'Sofía' in contactos.keys():\n",
        " print(\"El número telefónico de Sofía es: \")\n",
        " print(contactos['Sofía'][0])   \n"
      ],
      "execution_count": null,
      "outputs": [
        {
          "output_type": "stream",
          "name": "stdout",
          "text": [
            "El número telefónico de David es: \n",
            "555-0123\n"
          ]
        }
      ]
    },
    {
      "cell_type": "markdown",
      "metadata": {
        "id": "0yonC3g2SOD5"
      },
      "source": [
        "## Encontrando valores en una lista\n",
        "\n",
        "El uso del método de diccionario **values()** retorna una lista de valores dentro del diccionario. Utilice: **valor in lista.values()** para determinar si el valor existe realmente dentro de la lista. Si el valor está en la lista, devuelve True. De lo contrario, devolverá False."
      ]
    },
    {
      "cell_type": "code",
      "metadata": {
        "colab": {
          "base_uri": "https://localhost:8080/"
        },
        "id": "nmUdz0PxS_vC",
        "outputId": "39ed91da-eedb-4de5-ab5d-4eb5f80e29a8"
      },
      "source": [
        "# Creación de un diccionario\n",
        "\n",
        "contactos = {\n",
        "    'David': ['555-0123', '555-1933'],\n",
        "    'Juan': '555-5678', \n",
        "    'Teresa': '555-1428'\n",
        "}\n",
        "\n",
        "print(['555-0123', '555-1933'] in contactos.values())\n",
        "print('555-5678' in contactos.values())"
      ],
      "execution_count": null,
      "outputs": [
        {
          "output_type": "stream",
          "name": "stdout",
          "text": [
            "True\n",
            "True\n"
          ]
        }
      ]
    },
    {
      "cell_type": "markdown",
      "metadata": {
        "id": "eQwFfTRPUTag"
      },
      "source": [
        "## Encontrando valores en una lista\n",
        "\n",
        "Si intenta encontrar elementos en un diccionario, un patrón que puede usar es: for clave_variable in nombre_de_diccionario:\n",
        "\n",
        "El bloque de código que sigue después de la instrucción for se ejecutará para todos los elementos enumerados en el diccionario. Para acceder al valor del elemento en el bucle for, use el patrón: nombre_de_diccionario [variable_clave]. A diferencia de las listas, los diccionarios no están ordenados. En el bucle for\n",
        "asegúrese de que se procesen todos los elementos del diccionario; sin embargo, no hay garantía de que serán procesados ​​en el orden que se desee.\n",
        "\n",
        "Es una práctica común nombrar los diccionarios usando un sustantivo plural, como en el caso de los contactos.\n",
        "El patrón estándar del bucle for utilizará la forma singular del nombre del diccionario como clave_variable. Por ejemplo, para contacto en contactos o para persona en personas."
      ]
    },
    {
      "cell_type": "code",
      "metadata": {
        "colab": {
          "base_uri": "https://localhost:8080/"
        },
        "id": "P1BJT3v_VAd3",
        "outputId": "69c7f3fc-781e-4b4a-f500-9523da999ce5"
      },
      "source": [
        "# Creación de un diccionario\n",
        "\n",
        "contactos = {\n",
        "    'David': ['555-0123', '555-1933'],\n",
        "    'Juan': '555-5678', \n",
        "    'Teresa': '555-1428'\n",
        "}\n",
        "\n",
        "for contacto in contactos:\n",
        "  print('El número para {0}: es {1}.'.format(contacto, contactos[contacto]))"
      ],
      "execution_count": null,
      "outputs": [
        {
          "output_type": "stream",
          "name": "stdout",
          "text": [
            "El número para David: es ['555-0123', '555-1933'].\n",
            "El número para Juan: es 555-5678.\n",
            "El número para Teresa: es 555-1428.\n"
          ]
        }
      ]
    },
    {
      "cell_type": "markdown",
      "metadata": {
        "id": "1ErqxYHVVmev"
      },
      "source": [
        "## Utilización de más de una variable\n",
        "\n",
        "También puede optar por utilizar dos variables al definir un bucle for para procesar elementos dentro de un\n",
        "diccionario. Mientras que la primera variable comprende la clave, la segunda contendrá el valor. El patrón\n",
        "es: variable_clave, variable_valor in nombre_diccionario.items():"
      ]
    },
    {
      "cell_type": "code",
      "metadata": {
        "colab": {
          "base_uri": "https://localhost:8080/"
        },
        "id": "fpy1vZ3rSYP-",
        "outputId": "7665b914-764f-4b4f-8839-5d2dd06424e8"
      },
      "source": [
        "# Creación de un diccionario\n",
        "\n",
        "contactos = {\n",
        "    'David': ['555-0123', '555-1933'],\n",
        "    'Juan': '555-5678', \n",
        "    'Teresa': '555-1428'\n",
        "}\n",
        "\n",
        "for persona, numero_telefono in contactos.items():\n",
        " print('El número para {0}: es {1}.'.format(persona, numero_telefono))"
      ],
      "execution_count": null,
      "outputs": [
        {
          "output_type": "stream",
          "name": "stdout",
          "text": [
            "El número para David: es ['555-0123', '555-1933'].\n",
            "El número para Juan: es 555-5678.\n",
            "El número para Teresa: es 555-1428.\n"
          ]
        }
      ]
    },
    {
      "cell_type": "markdown",
      "metadata": {
        "id": "JsOnhB2BWbEy"
      },
      "source": [
        "## Diccionarios Anidados\n",
        "\n",
        "Dado que los valores contenidos en un diccionario pueden ser de cualquier tipo de dato, se dispone de la capacidad de anidar diccionarios. En el siguiente ejemplo, los nombres son las claves del diccionario de contactos, mientras que teléfono y el correo electrónico son las claves utilizadas en el diccionario anidado. Cada persona en esta lista de contactos tiene un\n",
        "número de teléfono y una dirección de correo electrónico. Si desea conocer la dirección de correo electrónico de David, puede recuperarla utilizando: contactos['David'] ['correo electrónico'].\n",
        "\n",
        "Asegúrese de prestar mucha atención a la ubicación de los dos puntos, las comillas, las comas y las llaves."
      ]
    },
    {
      "cell_type": "code",
      "metadata": {
        "colab": {
          "base_uri": "https://localhost:8080/"
        },
        "id": "Iw4Hz5SxW5hk",
        "outputId": "ab238bac-fff8-465a-80f8-ac29ee1cf9c7"
      },
      "source": [
        "# Creación de un diccionario\n",
        "\n",
        "contactos = {\n",
        "  'David': {\n",
        "      'telefono': '555-1234',         # La coma es obligatoria en este punto\n",
        "      'correo': 'david@gmail.com'\n",
        "  },                                  # La coma es obligatoria en este punto\n",
        "  'Juan': {\n",
        "      'telefono': '555-5678',         # La coma es obligatoria en este punto\n",
        "      'correo': 'juan@gmail.com'\n",
        "  }\n",
        "}\n",
        "\n",
        "print(contactos)\n",
        "print()\n",
        "\n",
        "for contacto in contactos:\n",
        " print(\"Información del contacto: {}\".format(contacto))\n",
        " print(\"\\t\" + contactos[contacto]['telefono'])\n",
        " print(\"\\t\" + contactos[contacto]['correo'])\n",
        " print()"
      ],
      "execution_count": null,
      "outputs": [
        {
          "output_type": "stream",
          "name": "stdout",
          "text": [
            "{'David': {'telefono': '555-1234', 'correo': 'david@gmail.com'}, 'Juan': {'telefono': '555-5678', 'correo': 'juan@gmail.com'}}\n",
            "\n",
            "Información del contacto: David\n",
            "\t555-1234\n",
            "\tdavid@gmail.com\n",
            "\n",
            "Información del contacto: Juan\n",
            "\t555-5678\n",
            "\tjuan@gmail.com\n",
            "\n"
          ]
        }
      ]
    }
  ]
}