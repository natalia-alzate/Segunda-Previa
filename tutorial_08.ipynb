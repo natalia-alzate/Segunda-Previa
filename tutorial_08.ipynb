{
  "nbformat": 4,
  "nbformat_minor": 0,
  "metadata": {
    "colab": {
      "name": "tutorial-08.ipynb",
      "provenance": [],
      "collapsed_sections": [],
      "include_colab_link": true
    },
    "kernelspec": {
      "name": "python3",
      "display_name": "Python 3"
    },
    "language_info": {
      "name": "python"
    }
  },
  "cells": [
    {
      "cell_type": "markdown",
      "metadata": {
        "id": "view-in-github",
        "colab_type": "text"
      },
      "source": [
        "<a href=\"https://colab.research.google.com/github/natalia-alzate/Segunda-Previa/blob/main/tutorial_08.ipynb\" target=\"_parent\"><img src=\"https://colab.research.google.com/assets/colab-badge.svg\" alt=\"Open In Colab\"/></a>"
      ]
    },
    {
      "cell_type": "markdown",
      "metadata": {
        "id": "uwha9apTTNSx"
      },
      "source": [
        "### Python - Tutorial 08"
      ]
    },
    {
      "cell_type": "markdown",
      "metadata": {
        "id": "UPLxWrHVTSbM"
      },
      "source": [
        "## Módulos\n",
        "\n",
        "Un módulo de Python es un archivo que tiene una extensión .py. Estos se pueden utilizar para implementar un conjunto de atributos (variables), métodos (funciones) y clases (tipos). Puedes incluir un módulo en otro programa de Python simplemente usando la declaración de importación seguida del nombre del módulo. \n",
        "\n",
        "Para importar un módulo llamado tiempo, incluya **import time** dentro de su programa Python. Ahora puede acceder a los métodos dentro del módulo tiempo llamando a **time.nombre_metodo()**, o si lo desea puede llamar a los atributos, a veces llamados variables, por medio de: **time.nombre_atributo**. \n",
        "\n",
        "El siguiente código es un ejemplo que utiliza el método asctime() y el atributo de zona horaria del módulo **time**. El atributo de zona horaria incluye el número de segundos entre UTC (tiempo universal coordinado) y la hora local."
      ]
    },
    {
      "cell_type": "code",
      "metadata": {
        "colab": {
          "base_uri": "https://localhost:8080/"
        },
        "id": "2MOe596iTHPr",
        "outputId": "4898804a-b1d9-4394-88be-a58c23796fcf"
      },
      "source": [
        "## Incluyendo la librería time\n",
        "\n",
        "import time\n",
        "\n",
        "print(time.asctime())\n",
        "print(time.timezone)\n"
      ],
      "execution_count": null,
      "outputs": [
        {
          "output_type": "stream",
          "name": "stdout",
          "text": [
            "Wed Oct 20 06:14:15 2021\n",
            "0\n"
          ]
        }
      ]
    },
    {
      "cell_type": "markdown",
      "metadata": {
        "id": "dd-XHVlRNRP-"
      },
      "source": [
        "## Importando solo algunos métodos\n",
        "\n",
        "Siempre que importe un módulo, todos los métodos de ese módulo estarán disponibles para ser utilizados. Si opta por utilizar un solo método en un módulo, puede importar solo dicho método utilizando la sintaxis: **from nombre_módulo import nombre_metodo**.\n",
        "\n",
        "Ahora el método puede ser accedido en su programa por su nombre. En lugar de llamar nombre_modulo.nombre_metodo(), puede simplemente llamar a nombre_método()."
      ]
    },
    {
      "cell_type": "code",
      "metadata": {
        "colab": {
          "base_uri": "https://localhost:8080/"
        },
        "id": "1KSI37KpOF6n",
        "outputId": "091724e3-58cc-4357-bc0a-3f48e25bb99a"
      },
      "source": [
        "# Importando un solo método\n",
        "\n",
        "from time import asctime\n",
        "print(asctime())\n",
        "\n",
        "# Imprime la fecha y hora"
      ],
      "execution_count": null,
      "outputs": [
        {
          "output_type": "stream",
          "name": "stdout",
          "text": [
            "Wed Oct 20 10:22:12 2021\n"
          ]
        }
      ]
    },
    {
      "cell_type": "markdown",
      "metadata": {
        "id": "UxSVZXdFOsIi"
      },
      "source": [
        "## Revisando el contenido de un módulo\n",
        "\n",
        "Puede usar la función incorporada dir() para descubrir qué atributos, métodos y clases existen dentro\n",
        "cualquier módulo."
      ]
    },
    {
      "cell_type": "code",
      "metadata": {
        "colab": {
          "base_uri": "https://localhost:8080/"
        },
        "id": "yvQjS1tZO5IO",
        "outputId": "aac7840b-1743-4617-ce31-1b6efddd9be8"
      },
      "source": [
        "import time\n",
        "dir(time)\n"
      ],
      "execution_count": null,
      "outputs": [
        {
          "output_type": "execute_result",
          "data": {
            "text/plain": [
              "['CLOCK_BOOTTIME',\n",
              " 'CLOCK_MONOTONIC',\n",
              " 'CLOCK_MONOTONIC_RAW',\n",
              " 'CLOCK_PROCESS_CPUTIME_ID',\n",
              " 'CLOCK_REALTIME',\n",
              " 'CLOCK_THREAD_CPUTIME_ID',\n",
              " '_STRUCT_TM_ITEMS',\n",
              " '__doc__',\n",
              " '__loader__',\n",
              " '__name__',\n",
              " '__package__',\n",
              " '__spec__',\n",
              " 'altzone',\n",
              " 'asctime',\n",
              " 'clock',\n",
              " 'clock_getres',\n",
              " 'clock_gettime',\n",
              " 'clock_gettime_ns',\n",
              " 'clock_settime',\n",
              " 'clock_settime_ns',\n",
              " 'ctime',\n",
              " 'daylight',\n",
              " 'get_clock_info',\n",
              " 'gmtime',\n",
              " 'localtime',\n",
              " 'mktime',\n",
              " 'monotonic',\n",
              " 'monotonic_ns',\n",
              " 'perf_counter',\n",
              " 'perf_counter_ns',\n",
              " 'process_time',\n",
              " 'process_time_ns',\n",
              " 'pthread_getcpuclockid',\n",
              " 'sleep',\n",
              " 'strftime',\n",
              " 'strptime',\n",
              " 'struct_time',\n",
              " 'thread_time',\n",
              " 'thread_time_ns',\n",
              " 'time',\n",
              " 'time_ns',\n",
              " 'timezone',\n",
              " 'tzname',\n",
              " 'tzset']"
            ]
          },
          "metadata": {},
          "execution_count": 2
        }
      ]
    },
    {
      "cell_type": "markdown",
      "metadata": {
        "id": "_0aUtBchPERu"
      },
      "source": [
        "## Creando su propio módulo\n",
        "\n",
        "Así como Python tiene una biblioteca con su propio código reutilizable, usted también puede hacerlo. Es bastante sencillo crear su propio módulo. Solo recuerde que en su forma menos compleja, los módulos son archivos que tienen una extensión .py\n",
        "\n",
        "Simplemente cree un archivo Python con su código e impórtelo desde otro programa Python. El siguiente programa constituye el contenido de saludo.py"
      ]
    },
    {
      "cell_type": "code",
      "metadata": {
        "id": "ReBDiseqQBHL"
      },
      "source": [
        "# Creando un módulo\n",
        "\n",
        "with open(\"saludando.py\", \"w+\") as archivo:\n",
        "\n",
        "  # Observe que antes de print() se coloca: \\n\\t. Esto es:\n",
        "  # \\n  Salto de línea\n",
        "  # \\t  Tabulación\n",
        "  # Esto es necesario para que el pograma quede identado\n",
        "\n",
        "  archivo.write(\"def saludo(): {}print('saludo')\".format(\"\\n\\t\"))\n",
        "\n",
        "\n"
      ],
      "execution_count": null,
      "outputs": []
    },
    {
      "cell_type": "code",
      "metadata": {
        "colab": {
          "base_uri": "https://localhost:8080/"
        },
        "id": "kWfyOIS4FpxB",
        "outputId": "2a804056-a927-4567-ece0-adae02138920"
      },
      "source": [
        "# Utilizando el módulo\n",
        "\n",
        "import saludando\n",
        "\n",
        "saludando.saludo()"
      ],
      "execution_count": null,
      "outputs": [
        {
          "output_type": "stream",
          "name": "stdout",
          "text": [
            "saludo\n"
          ]
        }
      ]
    }
  ]
}