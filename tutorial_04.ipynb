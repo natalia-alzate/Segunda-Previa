{
  "nbformat": 4,
  "nbformat_minor": 0,
  "metadata": {
    "colab": {
      "name": "tutorial-04.ipynb",
      "provenance": [],
      "collapsed_sections": [],
      "include_colab_link": true
    },
    "kernelspec": {
      "name": "python3",
      "display_name": "Python 3"
    },
    "language_info": {
      "name": "python"
    }
  },
  "cells": [
    {
      "cell_type": "markdown",
      "metadata": {
        "id": "view-in-github",
        "colab_type": "text"
      },
      "source": [
        "<a href=\"https://colab.research.google.com/github/natalia-alzate/Segunda-Previa/blob/main/tutorial_04.ipynb\" target=\"_parent\"><img src=\"https://colab.research.google.com/assets/colab-badge.svg\" alt=\"Open In Colab\"/></a>"
      ]
    },
    {
      "cell_type": "markdown",
      "metadata": {
        "id": "34qeyS76Bb63"
      },
      "source": [
        "## Python - Tutorial 04"
      ]
    },
    {
      "cell_type": "markdown",
      "metadata": {
        "id": "luq4l49_BjQj"
      },
      "source": [
        "## Listas\n",
        "\n",
        "En los tutoriales anteriores hemos abordado los tipos de datos de cadena, enteros, flotantes y booleanos. En este tutorial veremos las listas, un tipo de dato que contiene una colección organizada de elementos. Los elementos o valores que son contenidos en la lista pueden ser de varios tipos de datos. De hecho, incluso puede tener listas que existen dentro de las listas.\n",
        "\n",
        "Tenga en cuenta que las listas se crean utilizando valores separados por comas, entre corchetes. El patrón es\n",
        "**nombre_lista = [item_1, item_2, item_N]**. Para crear una lista vacía, utilice: **nombre_lista = [ ]**. Los elementos\n",
        "dentro de una lista siempre se puede acceder por índice. Los índices de lista empiezan en cero, lo que significa que el primer elemento de la lista tendrá un índice de 0, el segundo elemento un índice de 1, y así sucesivamente. Para acceder a cualquier elemento en una lista usando un índice, simplemente encierre el índice entre corchetes directamente después del nombre de la lista. El patrón es **nombre_lista [índice]**."
      ]
    },
    {
      "cell_type": "code",
      "metadata": {
        "colab": {
          "base_uri": "https://localhost:8080/"
        },
        "id": "qiYH2K1aBbI-",
        "outputId": "7917c7f1-8cf1-4d03-93b2-0fddda532456"
      },
      "source": [
        "# Se define una lista\n",
        "\n",
        "animales = [\"león\", \"tigre\", \"pantera\"]\n",
        "\n",
        "# Se accede a los elementos de la lista utilizando un índice\n",
        "\n",
        "print(animales[0])\n",
        "print(animales[1])\n",
        "print(animales[2])"
      ],
      "execution_count": null,
      "outputs": [
        {
          "output_type": "stream",
          "name": "stdout",
          "text": [
            "león\n",
            "tigre\n",
            "pantera\n"
          ]
        }
      ]
    },
    {
      "cell_type": "markdown",
      "metadata": {
        "id": "bo3tqzeLDqd7"
      },
      "source": [
        "## Acceso a la lista en orden inverso\n",
        "\n",
        "A una lista se puede acceder en orden inverso. El último elemento tiene como índice el valor -1. El penúltimo elemento tiene como índice el valor -2. Y así sucesivamente."
      ]
    },
    {
      "cell_type": "code",
      "metadata": {
        "colab": {
          "base_uri": "https://localhost:8080/"
        },
        "id": "PnjcvEC1D8pa",
        "outputId": "50f57c15-d017-44db-ceeb-eb65b5f13d51"
      },
      "source": [
        "# Se define una lista\n",
        "\n",
        "animales = [\"león\", \"tigre\", \"pantera\"]\n",
        "\n",
        "# Acceso en orden inverso\n",
        "\n",
        "print(animales[-1])\n",
        "print(animales[-2])\n",
        "print(animales[-3])"
      ],
      "execution_count": null,
      "outputs": [
        {
          "output_type": "stream",
          "name": "stdout",
          "text": [
            "pantera\n",
            "tigre\n",
            "león\n"
          ]
        }
      ]
    },
    {
      "cell_type": "markdown",
      "metadata": {
        "id": "n5IAbtYnETEa"
      },
      "source": [
        "## Agregando elementos al final de una lista\n",
        "\n",
        "Para agregar elementos al final de una lista se utiliza la instrucción append()"
      ]
    },
    {
      "cell_type": "code",
      "metadata": {
        "colab": {
          "base_uri": "https://localhost:8080/"
        },
        "id": "yVzLf-TjEcCu",
        "outputId": "cfec7cf0-e6af-40e7-8bce-3aab37839011"
      },
      "source": [
        "# Se define una lista\n",
        "\n",
        "animales = [\"león\", \"tigre\", \"pantera\"]\n",
        "\n",
        "# Se agrega un elemento\n",
        "\n",
        "animales.append(\"águila\")\n",
        "\n",
        "print(animales)   # Se imprime el contenido de la lista"
      ],
      "execution_count": null,
      "outputs": [
        {
          "output_type": "stream",
          "name": "stdout",
          "text": [
            "['león', 'tigre', 'pantera', 'águila']\n"
          ]
        }
      ]
    },
    {
      "cell_type": "markdown",
      "metadata": {
        "id": "nk_a8ybyE1Ih"
      },
      "source": [
        "## Agregando una lista a otra lista\n",
        "\n",
        "Se puede agregar una lista al final de otra lista con el método extend(). Observe el siguiente ejemplo."
      ]
    },
    {
      "cell_type": "code",
      "metadata": {
        "colab": {
          "base_uri": "https://localhost:8080/"
        },
        "id": "QkaOLcppE-1U",
        "outputId": "bc9bc3e9-a755-4ee8-d339-f261d93ea5c1"
      },
      "source": [
        "# Se define una lista\n",
        "\n",
        "animales = [\"león\", \"tigre\", \"pantera\"]\n",
        "\n",
        "animales.extend([\"gato\", \"jirafa\", \"perro\"])\n",
        "\n",
        "print(animales)"
      ],
      "execution_count": null,
      "outputs": [
        {
          "output_type": "stream",
          "name": "stdout",
          "text": [
            "['león', 'tigre', 'pantera', 'gato', 'jirafa', 'perro']\n"
          ]
        }
      ]
    },
    {
      "cell_type": "markdown",
      "metadata": {
        "id": "VivCr8QwFUkY"
      },
      "source": [
        "## Insertando elementos en listas\n",
        "\n",
        "Se pueden insertar elementos dentro de una lista con el comando insert(). Se debe indicar la posición en la cual se va a realizar la inserción, y el elemento a insertar. Veamos un ejemplo."
      ]
    },
    {
      "cell_type": "code",
      "metadata": {
        "colab": {
          "base_uri": "https://localhost:8080/"
        },
        "id": "PXtJGBjYFZl7",
        "outputId": "f11f6f97-a2fb-4057-d952-f7233d2d7f28"
      },
      "source": [
        "# Lista de animales\n",
        "\n",
        "animales = ['león', 'tigre', 'pantera', 'gato', 'jirafa', 'perro']\n",
        "\n",
        "print(animales[3])    # 'gato'\n",
        "print(animales[4])    # 'jirafa'\n",
        "\n",
        "# Vamos a insertar un elemento entre 'gato' [3] y jirafa [4]\n",
        "\n",
        "animales.insert(4, \"oso\")   # El 'gato' está en la tercera posición. Se inserta en la cuarta posición\n",
        "\n",
        "print(animales)"
      ],
      "execution_count": null,
      "outputs": [
        {
          "output_type": "stream",
          "name": "stdout",
          "text": [
            "gato\n",
            "jirafa\n",
            "['león', 'tigre', 'pantera', 'gato', 'oso', 'jirafa', 'perro']\n"
          ]
        }
      ]
    },
    {
      "cell_type": "markdown",
      "metadata": {
        "id": "39-iCY9LGe2C"
      },
      "source": [
        "## Slices (partes de una lista)\n",
        "\n",
        "Para acceder a una parte seleccionada de una lista, que puede denominarse sector (trozo), especifique dos índices y luego sepárelos con dos puntos colocados entre corchetes. El segmento comenzará en el primer índice y avanzará hasta (pero no incluye) el último índice. Si se omite el primer índice, se supone que es el 0. Si el segundo índice es omitido, se tomará el número de elementos de la lista. Observe los siguientes ejemplos:"
      ]
    },
    {
      "cell_type": "code",
      "metadata": {
        "colab": {
          "base_uri": "https://localhost:8080/"
        },
        "id": "e0I70HIfHDPD",
        "outputId": "c0505539-9a7e-48ec-908c-f386c7d105be"
      },
      "source": [
        "# Lista de animales\n",
        "\n",
        "animales = ['león', 'tigre', 'pantera', 'gato', 'jirafa', 'perro']\n",
        "\n",
        "# Se imprimen parte de la lista\n",
        "\n",
        "print(animales[0:1])    # Empieza en el elemento cero. Pero no llega hasta el uno. Entonces, imprime el cero\n",
        "print(animales[0:2])    # Imprime los índices 0 y 1, es decir, el 'león' y el 'tigre'\n",
        "print(animales[2:4])    # Imprime los índices 2 y 3. El cuatro no se incluye: 'pantera' y 'gato'"
      ],
      "execution_count": null,
      "outputs": [
        {
          "output_type": "stream",
          "name": "stdout",
          "text": [
            "['león']\n",
            "['león', 'tigre']\n",
            "['pantera', 'gato']\n"
          ]
        }
      ]
    },
    {
      "cell_type": "code",
      "metadata": {
        "colab": {
          "base_uri": "https://localhost:8080/"
        },
        "id": "c4YdjnKpHxh2",
        "outputId": "e3dd7152-45af-4b5b-8868-a9d4a6152077"
      },
      "source": [
        "# Mas ejemplos:\n",
        "\n",
        "# Lista de animales\n",
        "\n",
        "animales = ['león', 'tigre', 'pantera', 'gato', 'jirafa', 'perro']\n",
        "\n",
        "print(animales[:5]) # Imprime: 0, 1, 2, 3, 4 -> No incluye el cinco. Hasta 'jirafa'\n",
        "\n",
        "print(animales[4:]) # Imprime desde el índice 4 hasta el final: 'jirafa' y 'perro'\n",
        "\n",
        "print(animales[:])  # Imprime desde la posición 0 hasta el final. Es decir, todos"
      ],
      "execution_count": null,
      "outputs": [
        {
          "output_type": "stream",
          "name": "stdout",
          "text": [
            "['león', 'tigre', 'pantera', 'gato', 'jirafa']\n",
            "['jirafa', 'perro']\n",
            "['león', 'tigre', 'pantera', 'gato', 'jirafa', 'perro']\n"
          ]
        }
      ]
    },
    {
      "cell_type": "markdown",
      "metadata": {
        "id": "4jGRg5PkI0rc"
      },
      "source": [
        "## Mezclando formato con trozos de lista"
      ]
    },
    {
      "cell_type": "code",
      "metadata": {
        "colab": {
          "base_uri": "https://localhost:8080/"
        },
        "id": "BO52t_gLI5HA",
        "outputId": "7702a6f9-e01b-497a-89b5-20f7408058ae"
      },
      "source": [
        "# Lista de animales\n",
        "\n",
        "animales = ['león', 'tigre', 'pantera', 'gato', 'jirafa', 'perro']\n",
        "\n",
        "primeros_dos_animales = animales[0:2]\n",
        "\n",
        "print(\"Primeros dos animales: {}\".format(primeros_dos_animales))"
      ],
      "execution_count": null,
      "outputs": [
        {
          "output_type": "stream",
          "name": "stdout",
          "text": [
            "Primeros dos animales: ['león', 'tigre']\n"
          ]
        }
      ]
    },
    {
      "cell_type": "markdown",
      "metadata": {
        "id": "jGGxbV1OXjdp"
      },
      "source": [
        "## Slices sobre cadenas\n",
        "\n",
        "El método de troceados se puede aplicar también sobre cadenas. Observe los siguientes ejemplos."
      ]
    },
    {
      "cell_type": "code",
      "metadata": {
        "colab": {
          "base_uri": "https://localhost:8080/"
        },
        "id": "L0UCVtyCXsM6",
        "outputId": "7d727f8a-ca8b-483c-ca82-49a58272afe2"
      },
      "source": [
        "# Slices sobre cadenas\n",
        "\n",
        "mensaje = \"Python es un lenguaje multiaparadigma\"\n",
        "\n",
        "print(mensaje[0:6]) # Devuelve los caracteres: 0, 1, 2, 3, 4, 5. Es decir: \"Phyton\""
      ],
      "execution_count": null,
      "outputs": [
        {
          "output_type": "stream",
          "name": "stdout",
          "text": [
            "Python\n"
          ]
        }
      ]
    },
    {
      "cell_type": "markdown",
      "metadata": {
        "id": "gReSgYXAYc8V"
      },
      "source": [
        "## Encontrando un elemento en una lista\n",
        "\n",
        "Para buscar un elemento en una lista se utiliza el método: index(), el cual recibe un nombre dentro de la lista, y devuelve el índice en donde se encuentra dicho elemento. Ejemplo."
      ]
    },
    {
      "cell_type": "code",
      "metadata": {
        "colab": {
          "base_uri": "https://localhost:8080/"
        },
        "id": "IOO0a4cKY2xN",
        "outputId": "63a18feb-0482-49f4-a3c8-c8700bce55f0"
      },
      "source": [
        "# Lista de animales\n",
        "\n",
        "animales = ['león', 'tigre', 'pantera', 'gato', 'jirafa', 'perro']\n",
        "\n",
        "posicion = animales.index(\"gato\")\n",
        "print(\"Posición de 'gato' dentro de la lista: \" + str(posicion))"
      ],
      "execution_count": null,
      "outputs": [
        {
          "output_type": "stream",
          "name": "stdout",
          "text": [
            "Posición de 'gato' dentro de la lista: 3\n"
          ]
        }
      ]
    },
    {
      "cell_type": "markdown",
      "metadata": {
        "id": "Z1qB06RjZR_n"
      },
      "source": [
        "## Error fuera de índice\n",
        "\n",
        "Si el elemento buscado no se encuentra dentro de la lista, se produce un error. Observe el ejemplo."
      ]
    },
    {
      "cell_type": "code",
      "metadata": {
        "colab": {
          "base_uri": "https://localhost:8080/",
          "height": 220
        },
        "id": "4ZcM8hamZbtq",
        "outputId": "e3507a9f-3f4e-49a2-cadd-2c2200f78b51"
      },
      "source": [
        "# Lista de animales\n",
        "\n",
        "animales = ['león', 'tigre', 'pantera', 'gato', 'jirafa', 'perro']\n",
        "\n",
        "posicion = animales.index(\"abeja\")\n",
        "print(posicion)"
      ],
      "execution_count": null,
      "outputs": [
        {
          "output_type": "error",
          "ename": "ValueError",
          "evalue": "ignored",
          "traceback": [
            "\u001b[0;31m---------------------------------------------------------------------------\u001b[0m",
            "\u001b[0;31mValueError\u001b[0m                                Traceback (most recent call last)",
            "\u001b[0;32m<ipython-input-19-a433fdd1652b>\u001b[0m in \u001b[0;36m<module>\u001b[0;34m()\u001b[0m\n\u001b[1;32m      3\u001b[0m \u001b[0manimales\u001b[0m \u001b[0;34m=\u001b[0m \u001b[0;34m[\u001b[0m\u001b[0;34m'león'\u001b[0m\u001b[0;34m,\u001b[0m \u001b[0;34m'tigre'\u001b[0m\u001b[0;34m,\u001b[0m \u001b[0;34m'pantera'\u001b[0m\u001b[0;34m,\u001b[0m \u001b[0;34m'gato'\u001b[0m\u001b[0;34m,\u001b[0m \u001b[0;34m'jirafa'\u001b[0m\u001b[0;34m,\u001b[0m \u001b[0;34m'perro'\u001b[0m\u001b[0;34m]\u001b[0m\u001b[0;34m\u001b[0m\u001b[0;34m\u001b[0m\u001b[0m\n\u001b[1;32m      4\u001b[0m \u001b[0;34m\u001b[0m\u001b[0m\n\u001b[0;32m----> 5\u001b[0;31m \u001b[0mposicion\u001b[0m \u001b[0;34m=\u001b[0m \u001b[0manimales\u001b[0m\u001b[0;34m.\u001b[0m\u001b[0mindex\u001b[0m\u001b[0;34m(\u001b[0m\u001b[0;34m\"abeja\"\u001b[0m\u001b[0;34m)\u001b[0m\u001b[0;34m\u001b[0m\u001b[0;34m\u001b[0m\u001b[0m\n\u001b[0m\u001b[1;32m      6\u001b[0m \u001b[0mprint\u001b[0m\u001b[0;34m(\u001b[0m\u001b[0mposicion\u001b[0m\u001b[0;34m)\u001b[0m\u001b[0;34m\u001b[0m\u001b[0;34m\u001b[0m\u001b[0m\n",
            "\u001b[0;31mValueError\u001b[0m: 'abeja' is not in list"
          ]
        }
      ]
    },
    {
      "cell_type": "markdown",
      "metadata": {
        "id": "UXvsn6dGaHhj"
      },
      "source": [
        "## Manejo de excepciones\n",
        "\n",
        "Las excepciones se pueden evitar a través del uso de una estructura try ... except.\n",
        "\n",
        "Si la instrucción se puede realizar, se ejecuta el código en try. En cambio, si se produce una excepción (un error), se ejecuta el código except. Esto garantiza el control del error."
      ]
    },
    {
      "cell_type": "code",
      "metadata": {
        "colab": {
          "base_uri": "https://localhost:8080/"
        },
        "id": "CRhHtVh-Zn2L",
        "outputId": "dbff07cd-d3f3-48f2-9d5a-df44b63b6e3f"
      },
      "source": [
        "# Evitar el error con manejo de excepciones\n",
        "\n",
        "# La estructura try ... except permite controlar el error\n",
        "\n",
        "animales = ['gato', 'perro', 'lora']\n",
        "\n",
        "try:\n",
        " animal_buscado = animals.index('oveja')\n",
        "except:\n",
        " animal_buscado = 'No se encuentra la oveja.'\n",
        "\n",
        "print(animal_buscado)"
      ],
      "execution_count": null,
      "outputs": [
        {
          "output_type": "stream",
          "name": "stdout",
          "text": [
            "No se encuentra la oveja.\n"
          ]
        }
      ]
    },
    {
      "cell_type": "markdown",
      "metadata": {
        "id": "oYxPd6DubT_C"
      },
      "source": [
        "## Iterando a lo largo de una lista\n",
        "\n",
        "Si deseas realizar una acción en cada elemento de una lista, utilice un bucle for. El patrón que debe usar es:\n",
        "\n",
        "**for variable_item in nombre_lista:**\n",
        "\n",
        "La declaración debe terminar con los dos puntos. \n",
        "\n",
        "El bloque de código que sigue a la instrucción for, se ejecutará para cada elemento dentro de la lista.\n",
        "\n",
        "Efectivamente, lo que sucede es que el primer elemento de la lista, **lista [0]**, se asigna a la variable:\n",
        "**variable_item** y se ejecuta a continuación el bloque de código. \n",
        "\n",
        "El siguiente elemento de la lista, **lista [1]**, se asigna a **variable_item** y se ejecuta el bloque de código. Este proceso se repite hasta que se termina la lista. Si no hay elementos en la lista, el bloque de código no se ejecutará.\n",
        "\n",
        "A continuación varios ejemplos."
      ]
    },
    {
      "cell_type": "code",
      "metadata": {
        "colab": {
          "base_uri": "https://localhost:8080/"
        },
        "id": "acTn4RNQdaq4",
        "outputId": "54b12d07-415c-4a25-8c0f-a77544c68cb6"
      },
      "source": [
        "# Iterando sobre listas\n",
        "\n",
        "animales = ['tigre', 'leon', 'pantera']\n",
        "\n",
        "for animal in animales:\n",
        " print(animal.upper())"
      ],
      "execution_count": null,
      "outputs": [
        {
          "output_type": "stream",
          "name": "stdout",
          "text": [
            "TIGRE\n",
            "LEON\n",
            "PANTERA\n"
          ]
        }
      ]
    },
    {
      "cell_type": "markdown",
      "metadata": {
        "id": "L-3UTmA4dute"
      },
      "source": [
        "## Variante de iteración\n",
        "\n",
        "Además del ciclo for, Python también tiene un ciclo while (mientras). El patrón es: **while condicion:** seguido por un bloque de código. Siempre que esta condición se evalúe como verdadera, el bloque de código que sigue al while se ejecutará. \n",
        "\n",
        "Normalmente, el bloque de código modificará una variable que forme parte de la condición. En algún momento, la condición se evaluará como falsa y el programa continuará después del ciclo while. \n",
        "\n",
        "En los casos en que la condición nunca se evalúe como falsa, estaremos en presencia de un bucle infinito. Para detener la ejecución de un programa Python que ejecute un ciclo infinito, presione Ctrl + C. \n",
        "\n",
        "Ctrl + C le permitirá salir de un ciclo infinito si accidentalmente cae en el.\n",
        "\n",
        "El siguiente ejemplo crea una variable de índice para almacenar un número entero, el cual se utilizará como índice de la lista de animales. \n",
        "\n",
        "El ciclo while se ejecutará mientras el índice sea menor que la longitud de la lista de animales. Dentro del bloque de código, la variable de índice se incrementará en uno. El operador += agrega un valor, al valor existente de la variable, y asigna el nuevo valor a esa variable. Usando índice += 1\n",
        "incrementará la variable de índice en uno. \n",
        "\n",
        "Tenga en cuenta que, a diferencia de muchos lenguajes de programación, Python no tiene un operador de incremento \"++\"."
      ]
    },
    {
      "cell_type": "code",
      "metadata": {
        "colab": {
          "base_uri": "https://localhost:8080/"
        },
        "id": "UFrtPhxAfCWG",
        "outputId": "9f7b24a8-fa48-4a46-cc93-09f85d870083"
      },
      "source": [
        "# Lista de animales\n",
        "\n",
        "animales = ['gato', 'león', 'tigre', 'perro', 'águila', 'abeja', 'pinguino']\n",
        "\n",
        "indice = 0\n",
        "while indice < len(animales):\n",
        " print(animales[indice])\n",
        " indice += 1\n"
      ],
      "execution_count": null,
      "outputs": [
        {
          "output_type": "stream",
          "name": "stdout",
          "text": [
            "gato\n",
            "león\n",
            "tigre\n",
            "perro\n",
            "águila\n",
            "abeja\n",
            "pinguino\n"
          ]
        }
      ]
    },
    {
      "cell_type": "markdown",
      "metadata": {
        "id": "v0EXoAU6f9IA"
      },
      "source": [
        "## Ordenando una lista\n",
        "\n",
        "Para ordenar una lista, se debe utilizar el método sort(), asegurándose de evitar el uso de argumentos. Esta instrucción reordenará la lista actual. Si desea crear una nueva lista, simplemente utilice la función integrada sorted() y proporcione una lista como argumento. A continuación ejemplos de aplicación."
      ]
    },
    {
      "cell_type": "code",
      "metadata": {
        "colab": {
          "base_uri": "https://localhost:8080/"
        },
        "id": "2zgiG81BggCy",
        "outputId": "5b8fec1b-8c10-40ac-f321-4f70309eee0b"
      },
      "source": [
        "# Ordenando listas\n",
        "\n",
        "animales = ['león', 'pantera', 'araña']\n",
        "\n",
        "animales_ordenados = sorted(animales)\n",
        "\n",
        "print('Lista de animales:                {}'.format(animales))\n",
        "print('Lista de animales ordenados:      {}'.format(animales_ordenados))\n",
        "animales.sort()\n",
        "print('Animales después de ser ordenados {}'.format(animales))"
      ],
      "execution_count": null,
      "outputs": [
        {
          "output_type": "stream",
          "name": "stdout",
          "text": [
            "Lista de animales:                ['león', 'pantera', 'araña']\n",
            "Lista de animales ordenados:      ['araña', 'león', 'pantera']\n",
            "Animales después de ser ordenados ['araña', 'león', 'pantera']\n"
          ]
        }
      ]
    },
    {
      "cell_type": "markdown",
      "metadata": {
        "id": "pyCn6jEviXnM"
      },
      "source": [
        "## Concatenación de listas\n",
        "\n",
        "Para concatenar o combinar dos o más listas, utilice el signo +"
      ]
    },
    {
      "cell_type": "code",
      "metadata": {
        "colab": {
          "base_uri": "https://localhost:8080/"
        },
        "id": "Qo40cOx8ijUD",
        "outputId": "0505ea05-417a-4340-d761-50824738e20c"
      },
      "source": [
        "# Concatenación de listas\n",
        "\n",
        "animales = [\"gato\", \"tigre\", \"león\"]\n",
        "mas_animales = [\"abeja\", \"caballo\"]\n",
        "\n",
        "todos_los_animales = animales + mas_animales\n",
        "\n",
        "print(todos_los_animales)"
      ],
      "execution_count": null,
      "outputs": [
        {
          "output_type": "stream",
          "name": "stdout",
          "text": [
            "['gato', 'tigre', 'león', 'abeja', 'caballo']\n"
          ]
        }
      ]
    },
    {
      "cell_type": "markdown",
      "metadata": {
        "id": "UzSVSUKejJYK"
      },
      "source": [
        "## Longitud de una lista\n",
        "\n",
        "La longitud de una lista se puede calcular con el método len()"
      ]
    },
    {
      "cell_type": "code",
      "metadata": {
        "colab": {
          "base_uri": "https://localhost:8080/"
        },
        "id": "BiLHFk08jQbK",
        "outputId": "507216fd-ff20-417d-9f26-5e12bb1cefc3"
      },
      "source": [
        "# Lista de animales\n",
        "\n",
        "animales = ['gato', 'león', 'tigre', 'perro', 'águila', 'abeja', 'pinguino']\n",
        "\n",
        "print(len(animales))"
      ],
      "execution_count": null,
      "outputs": [
        {
          "output_type": "stream",
          "name": "stdout",
          "text": [
            "7\n"
          ]
        }
      ]
    },
    {
      "cell_type": "markdown",
      "metadata": {
        "id": "KwfpxgYzjbWY"
      },
      "source": [
        "## Rangos\n",
        "\n",
        "Otra función incorporada importante es la función range(), la cual crea una lista de números que a menudo se\n",
        "combina con la declaración for. Esta función es útil cuando desea completar una acción determinado\n",
        "número de veces, o cuando desea tener acceso al índice de una lista.\n",
        "\n",
        "La función range() necesita al menos un parámetro que denotará la condición de parada. Por defecto, range()\n",
        "produce una lista que comienza en cero y continúa hasta el punto de parada, pero sin incluir dicho punto. Para generar una lista que contenga N elementos, pase como parámetro la N a range(), así: range(N). \n",
        "\n",
        "Por ejemplo, si desea obtener una lista de 4 elementos, utilice range(4). La lista comienza en cero y contendrá los números 0, 1, 2 y 3.\n",
        "\n",
        "Veamos algunos ejemplos."
      ]
    },
    {
      "cell_type": "code",
      "metadata": {
        "colab": {
          "base_uri": "https://localhost:8080/"
        },
        "id": "g8zNIYrCpB80",
        "outputId": "45315e2c-98a4-49f1-8be9-732a902e4b68"
      },
      "source": [
        "for numero in range(4):\n",
        " print(numero)"
      ],
      "execution_count": null,
      "outputs": [
        {
          "output_type": "stream",
          "name": "stdout",
          "text": [
            "0\n",
            "1\n",
            "2\n",
            "3\n"
          ]
        }
      ]
    },
    {
      "cell_type": "markdown",
      "metadata": {
        "id": "FqmEeVjspQNB"
      },
      "source": [
        "## Definición amplia de rango\n",
        "\n",
        "Es posible definir el inicio y la condición de parada. El patrón es: range(inicio, parada). Para generar una lista que empiece en 2 y se deténga en 4, utilice: range(2, 4). Esto producirá una lista que se compone de solo dos\n",
        "elementos, 2 y 3."
      ]
    },
    {
      "cell_type": "code",
      "metadata": {
        "colab": {
          "base_uri": "https://localhost:8080/"
        },
        "id": "LJMt_2WEpp8r",
        "outputId": "83cbad57-173d-41b8-f834-88dc8f6d38d3"
      },
      "source": [
        "for numero in range(2, 4):\n",
        " print(numero)"
      ],
      "execution_count": null,
      "outputs": [
        {
          "output_type": "stream",
          "name": "stdout",
          "text": [
            "2\n",
            "3\n"
          ]
        }
      ]
    },
    {
      "cell_type": "markdown",
      "metadata": {
        "id": "ucw0yNskqBe4"
      },
      "source": [
        "Además de los parámetros de inicio y parada, la función range() también es capaz de aceptar un parámetro de incremento. En los casos en que se utilicen los tres parámetros, la lista comenzará en el valor inicial,\n",
        "terminará justo antes del valor de parada e incrementará la lista de acuerdo con el valor de paso (valor de avance. Si no hay valor de paso especificado, como en los ejemplos anteriores, su valor predeterminado es 1. Veamos un ejemplo que genere una lista que incorpore\n",
        "todos los números pares del 0 al 8."
      ]
    },
    {
      "cell_type": "code",
      "metadata": {
        "colab": {
          "base_uri": "https://localhost:8080/"
        },
        "id": "JlZAYiHSqWs5",
        "outputId": "e67986c7-b876-472c-cdf8-95bbf7683970"
      },
      "source": [
        "# Iteración sobre un rango\n",
        "\n",
        "for numero in range(0, 10, 2):\n",
        " print(numero)"
      ],
      "execution_count": null,
      "outputs": [
        {
          "output_type": "stream",
          "name": "stdout",
          "text": [
            "0\n",
            "2\n",
            "4\n",
            "6\n",
            "8\n"
          ]
        }
      ]
    },
    {
      "cell_type": "code",
      "metadata": {
        "colab": {
          "base_uri": "https://localhost:8080/"
        },
        "id": "VeV72dNxqqi0",
        "outputId": "3eccdcf3-493e-4ffe-f643-8674d00c8c60"
      },
      "source": [
        "# Ejemplo de aplicación\n",
        "# Imprime los animales en las posiciones pares\n",
        "\n",
        "# Lista de animales\n",
        "\n",
        "animales = ['gato', 'león', 'tigre', 'perro', 'águila', 'abeja', 'pinguino']\n",
        "\n",
        "for numero in range(0, len(animales), 2):\n",
        " print(animales[numero])\n"
      ],
      "execution_count": null,
      "outputs": [
        {
          "output_type": "stream",
          "name": "stdout",
          "text": [
            "gato\n",
            "tigre\n",
            "águila\n",
            "pinguino\n"
          ]
        }
      ]
    }
  ]
}