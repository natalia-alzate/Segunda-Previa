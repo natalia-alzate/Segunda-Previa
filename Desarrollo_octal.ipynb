{
  "nbformat": 4,
  "nbformat_minor": 0,
  "metadata": {
    "colab": {
      "name": "Desarrollo octal.ipynb",
      "provenance": [],
      "collapsed_sections": [],
      "authorship_tag": "ABX9TyNPTvdcqG+jA5lVfZPlsJMO",
      "include_colab_link": true
    },
    "kernelspec": {
      "name": "python3",
      "display_name": "Python 3"
    },
    "language_info": {
      "name": "python"
    }
  },
  "cells": [
    {
      "cell_type": "markdown",
      "metadata": {
        "id": "view-in-github",
        "colab_type": "text"
      },
      "source": [
        "<a href=\"https://colab.research.google.com/github/natalia-alzate/Segunda-Previa/blob/main/Desarrollo_octal.ipynb\" target=\"_parent\"><img src=\"https://colab.research.google.com/assets/colab-badge.svg\" alt=\"Open In Colab\"/></a>"
      ]
    },
    {
      "cell_type": "markdown",
      "metadata": {
        "id": "mXitQWANqf4v"
      },
      "source": [
        "#Desarrollo clase Octal"
      ]
    },
    {
      "cell_type": "code",
      "metadata": {
        "id": "U915-Wjrq3F-"
      },
      "source": [
        "#1 Crear la clase octal Es importante recordar que nos referimos a los números: 0, 1, 2, 3, 4, 5, 6, 7, siendo en total 8 dígitos los que abarca, por ende hablamos de base 8/octal.\n",
        "\n",
        "class octal:\n",
        "  pass # esto lo utilizamos para poder correr el programa sin problema aunque no hayamos agregado el resto del código\n",
        "\n",
        "o = octal()#en estos paréntesis le ingresaríamos los datos"
      ],
      "execution_count": null,
      "outputs": []
    },
    {
      "cell_type": "code",
      "metadata": {
        "colab": {
          "base_uri": "https://localhost:8080/"
        },
        "id": "ZzC3hke6tPuP",
        "outputId": "29bf0ba9-72bc-42fc-fe73-45b8f163520e"
      },
      "source": [
        "#2 Crear un \"constructor\" de objetos, inicialmente con un mensaje\n",
        "\n",
        "class octal:\n",
        "  def __init__(self): #Esta es la función creadora de objetos por defecto\n",
        "    print (\"Aquí está construído\")\n",
        "\n",
        "o = octal()"
      ],
      "execution_count": null,
      "outputs": [
        {
          "output_type": "stream",
          "name": "stdout",
          "text": [
            "Aquí está construído\n"
          ]
        }
      ]
    },
    {
      "cell_type": "code",
      "metadata": {
        "colab": {
          "base_uri": "https://localhost:8080/"
        },
        "id": "bM8mzZLuuej_",
        "outputId": "20a7bcea-df60-46e9-e1df-ff06f61c62a4"
      },
      "source": [
        "#3 Modificar el \"constructor\" para que permita recibir el octal como una cadena\n",
        "\n",
        "class octal:\n",
        "  def __init__(self,dato): # al objeto le vamos a dar una información que será ese dato\n",
        "    self.dato = dato #El dato obtiene una información externa que se la pasará a self.dato y será entonces interna en ese identificador del objeto\n",
        "\n",
        "o = octal(\"415263\") #aquí ingresamos los datos que vamos a usar y además llamamos a la clase octal para que se corra\n",
        "print (o.dato) # es decir que va a imprimir en pantalla lo que hay guardado en dato\n",
        "\n",
        "\n"
      ],
      "execution_count": null,
      "outputs": [
        {
          "output_type": "stream",
          "name": "stdout",
          "text": [
            "415263\n"
          ]
        }
      ]
    },
    {
      "cell_type": "code",
      "metadata": {
        "colab": {
          "base_uri": "https://localhost:8080/"
        },
        "id": "39KKqsdewFO_",
        "outputId": "dcb990e4-dc3c-4d63-8cc9-192751d8a19b"
      },
      "source": [
        "#4 Crear un método (función) cuya tarea es mostrar en pantalla el contenido del objeto\n",
        "\n",
        "class octal:\n",
        "  def __init__(self,dato):\n",
        "    self.dato = dato\n",
        "  def string (self): #String significa cadena en español y como hace referencia a un self, es una cadena para el objeto mismo\n",
        "    print(self.dato)\n",
        "\n",
        "o = octal (\"415263\")\n",
        "o.string() #llamamos a la función cadena "
      ],
      "execution_count": null,
      "outputs": [
        {
          "output_type": "stream",
          "name": "stdout",
          "text": [
            "415263\n"
          ]
        }
      ]
    },
    {
      "cell_type": "code",
      "metadata": {
        "id": "dPDHIPa6ysnx"
      },
      "source": [
        ""
      ],
      "execution_count": null,
      "outputs": []
    },
    {
      "cell_type": "code",
      "metadata": {
        "colab": {
          "base_uri": "https://localhost:8080/"
        },
        "id": "kqSOZCcYwtpD",
        "outputId": "09841e8a-6627-46ea-8fcc-e15825f52d28"
      },
      "source": [
        "#5 Convertir la cadena que almacena el Octal, en una lista\n",
        "#Esto es muy importante ya que para poder realizar operaciones matemáticas en el código necesitamos una lista para poder convertir los caracteres a enteros\n",
        "class octal:\n",
        "  def __init__(self, cadena_octal): #vamos a reemplazar el dato por un nombre más acorde a lo que buscamos\n",
        "    self.cadena_octal = cadena_octal #Los datos aquí guardados cambiarán para pasar a ser parte de una lista para manejarlos mejor con base en nuestro interés\n",
        "    self.lista_octal = list (self.cadena_octal) #La función list es interna de python y nos ayuda a convertir cademas a listas\n",
        "  def string (self):\n",
        "    print (self.cadena_octal)\n",
        "    print (self.lista_octal)\n",
        "\n",
        "o = octal(\"415263\")\n",
        "o.string() #Nos muestra ahora los dígitos en una lista de caracteres."
      ],
      "execution_count": null,
      "outputs": [
        {
          "output_type": "stream",
          "name": "stdout",
          "text": [
            "415263\n",
            "['4', '1', '5', '2', '6', '3']\n"
          ]
        }
      ]
    },
    {
      "cell_type": "code",
      "metadata": {
        "colab": {
          "base_uri": "https://localhost:8080/"
        },
        "id": "ITulzGtuyJw2",
        "outputId": "f61a02d8-1af7-4f59-b52f-77e4999a97ee"
      },
      "source": [
        "#6 Convertir la lista de strings en una lista de enteros\n",
        "\n",
        "class octal:\n",
        "  def __init__(self, cadena_octal):\n",
        "    self.cadena_octal = cadena_octal\n",
        "    self.lista_octal = list (self.cadena_octal)\n",
        "    i = 0 #Es decir que el recorrido por los caracteres lo va a iniciar desde la posición cero\n",
        "    for caracter in self.lista_octal: #Con esta función interna de python vamos a recorrer los caracteres para poderlos convertir uno a uno\n",
        "      self.lista_octal[i] = int (caracter) # con la función de python int lo que hacemos es convertir el caracter en un número entero\n",
        "      i = i + 1 #Es decir que en cada ronda de revisar un caracter le sumamos uno para que revise la siguiente posición y así hasta terminar\n",
        "  def string(self):\n",
        "    print(self.cadena_octal)\n",
        "    print(self.lista_octal)\n",
        "\n",
        "o = octal(\"415263\")\n",
        "o.string()#diferente al paso anterior, aquí la lista ya no incluye comillas en los dígitos, lo cual significa que ahora son números enteros.\n"
      ],
      "execution_count": null,
      "outputs": [
        {
          "output_type": "stream",
          "name": "stdout",
          "text": [
            "415263\n",
            "[4, 1, 5, 2, 6, 3]\n"
          ]
        }
      ]
    },
    {
      "cell_type": "markdown",
      "metadata": {
        "id": "o5G9s9pO06yS"
      },
      "source": [
        " #7 Invertir la lista para que coincida con los octales en metamáticas.\n",
        "\n",
        " Para entenderlo mejor, existe una contradicción entre la forma como está definido un número binario en cuanto a las posiciones, y como funcionan estas en las listas de python: [explicación ilustrada](https://excalidraw.com/) y es por ende que la solución será invertir los binarios para que sus posiciones puedan ser las correctas y no afectarel cálculo."
      ]
    },
    {
      "cell_type": "code",
      "metadata": {
        "colab": {
          "base_uri": "https://localhost:8080/"
        },
        "id": "6Kb6xNtQ8WNo",
        "outputId": "a78ba0d4-c588-41a7-91f0-3191184a14de"
      },
      "source": [
        "class octal:\n",
        "  lista_octal = []\n",
        "  def __init__ (self, cadena_octal):\n",
        "    self.cadena_octal = cadena_octal\n",
        "    self.lista_octal = list (self.cadena_octal)\n",
        "    i = 0\n",
        "    for caracter in self.lista_octal:\n",
        "      self.lista_octal [i] = int(caracter)\n",
        "      i = i + 1 \n",
        "    self.lista_octal = list(reversed(self.lista_octal)) # con la función de python \"reversed\" lo que hacemos es invertir de posiciones los valores que hay guardados en \"self.lista_octal\" que está ingresado en un parentesis con la función para poder que ésta la abarque\n",
        "  def string(self):\n",
        "    print(self.cadena_octal)\n",
        "    print(self.lista_octal)\n",
        "\n",
        "o = octal(\"415263\")\n",
        "o.string()\n",
        "   "
      ],
      "execution_count": null,
      "outputs": [
        {
          "output_type": "stream",
          "name": "stdout",
          "text": [
            "415263\n",
            "[3, 6, 2, 5, 1, 4]\n"
          ]
        }
      ]
    },
    {
      "cell_type": "code",
      "metadata": {
        "colab": {
          "base_uri": "https://localhost:8080/"
        },
        "id": "eIERaGUAF3i_",
        "outputId": "252c0abb-08b9-4497-f8c2-1609f654003b"
      },
      "source": [
        "#8 Convertir el octal en un decimal\n",
        "\n",
        "class octal:\n",
        "  base=8 #Este número en específico porque estamos trabajando la base octal que consta de 8 dígitos del 0 al 7 y más tarde la utilizaremos para hacer operaciones matemáticas\n",
        "  lista_octal=[]\n",
        "  def __init__ (self,cadena_octal):\n",
        "    self.cadena_octal = cadena_octal\n",
        "    self.lista_octal = list(self.cadena_octal)\n",
        "    i=0\n",
        "    for caracter in self.lista_octal:\n",
        "      self.lista_octal[i] = int(caracter)\n",
        "      i = i+1\n",
        "    self.lista_octal= list(reversed(self.lista_octal))\n",
        "  def decimal(self):\n",
        "    numero_decimal = 0\n",
        "    i = 0 # va a empezar a recorrer la lista desde la posición cero una vez está invertida\n",
        "    for caracter in self.lista_octal:\n",
        "      numero_decimal += self.base**i *self.lista_octal[i] \n",
        "      #esa operación significa \"+= incremento en\" self.base es 8 que lo escribimos en la línea 2, está elevado \"**\" a \"i\" que es la posición que se esté analizando en el momento y multiplicado \"*\" por el dígito que en la posición que se está evaluando de lista_octal \n",
        "      i = i+1 #en cada ronda se le suma uno a la posición para que pueda recorrer todos los dígitos y transformarlos\n",
        "      return numero_decimal # esta función interna reservada de python se utiliza para establecer el resultado (o valor de retorno) de una función y necesariamente debe estar ubicada dentro de una función, diferente de print()\n",
        "  def string(self):\n",
        "    print(self.cadena_octal)\n",
        "    print(self.lista_octal)\n",
        "\n",
        "o = octal(\"415263\")\n",
        "o.string()\n",
        "print(o.decimal())\n"
      ],
      "execution_count": null,
      "outputs": [
        {
          "output_type": "stream",
          "name": "stdout",
          "text": [
            "415263\n",
            "[3, 6, 2, 5, 1, 4]\n",
            "3\n"
          ]
        }
      ]
    }
  ]
}