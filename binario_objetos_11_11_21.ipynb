{
  "nbformat": 4,
  "nbformat_minor": 0,
  "metadata": {
    "colab": {
      "name": "binario-objetos desarrollo.ipynb",
      "provenance": [],
      "collapsed_sections": [],
      "authorship_tag": "ABX9TyMR2x8ouxqh2jryop1Dqu1n",
      "include_colab_link": true
    },
    "kernelspec": {
      "name": "python3",
      "display_name": "Python 3"
    },
    "language_info": {
      "name": "python"
    }
  },
  "cells": [
    {
      "cell_type": "markdown",
      "metadata": {
        "id": "view-in-github",
        "colab_type": "text"
      },
      "source": [
        "<a href=\"https://colab.research.google.com/github/natalia-alzate/Segunda-Previa/blob/main/binario_objetos_desarrollo.ipynb\" target=\"_parent\"><img src=\"https://colab.research.google.com/assets/colab-badge.svg\" alt=\"Open In Colab\"/></a>"
      ]
    },
    {
      "cell_type": "markdown",
      "metadata": {
        "id": "ImSggRY6cHO3"
      },
      "source": [
        "##DESARROLLO TALLERES BINARIO-OBJETOS"
      ]
    },
    {
      "cell_type": "code",
      "metadata": {
        "colab": {
          "base_uri": "https://localhost:8080/"
        },
        "id": "vBeQ3k4BcuHP",
        "outputId": "8c0d9a53-6549-4675-b526-b7afad49af14"
      },
      "source": [
        "class Binario:\n",
        "  base = 2 \n",
        "  lista_binaria = []\n",
        "  def __init__ (self, cadena_binaria):#por defecto así se escribe la función que permite crear objetos \"def _ _init_ _ (self, parámetros) el self es el que se refiere al objeto que se ha creado\"\n",
        "    self.cadena_binaria = cadena_binaria #la primera parte la tomamos como un identificador del objeto que va a guardar la información internamente que más tarde le proveerá \"cadena_binaria\" como dato externo\n",
        "    self.lista_binaria = list (self.cadena_binaria) #List es una función interna de python que convierte una cadena en una lista\n",
        "    i = 0 #Desde la posición cero se va a empezar a recorrer la lista\n",
        "    for dato in self.lista_binaria:# con estas funciones lo que hacemos es revisar la información que están ubicados en \"lista_binaria\" e ir convirtiendo los caracteres \n",
        "      self.lista_binaria [i] = int (dato) #lo que hay en i en la sus diferentes posiciones es lo que se convirtió en dato tras usar la función de python \"int\"\n",
        "      i = i + 1 #Esto es para que en cada ronda de análisis se le sume uno y pueda pasar a otra ronda hasta que acabe los datos por recorrer\n",
        "      self.lista_binaria = list (reversed (self.lista_binaria)) #Esta es otra función de python que lo que hace es invertir en orden de los datos ingresados \"reversed\", además está la función list de python que convierte una cadena en una lista, necesaria para poder hacer operaciones matemáticas\n",
        "  def decimal (self):\n",
        "    numero_decimal = 0\n",
        "    i = 0\n",
        "    for dato in self.lista_binaria:\n",
        "      numero_decimal += self.lista_binaria [i]*self.base**i #\"+=\" significa incremento en. [i] es el dígito en la posición del momento que será el binario, un solo asterisco es multiplicar por la base que estemos manejando, dos asteriscos es elevado a la posición, recordemos que empieza desde cero\n",
        "      i = i+1\n",
        "      return numero_decimal\n",
        "  def string (self): # No recive ningpún valor, excepto el self que es obligatorio para poder referirse al objeto, y lso dos puntos son indispensables para la sintaxis \n",
        "    print (self.cadena_binaria)#imprime los datos internos que hay guardados en estos indentificadores del objeto\n",
        "    print (self.lista_binaria)\n",
        "\n",
        "b= Binario (\"110011\")#esta es una cadena de datos que le envía esa información al constructor\n",
        "b.string() # se llama al método definido como string del objeto\n",
        "print (b.decimal())\n",
        "a = Binario([1, 1])\n",
        "b = Binario([0, 1, 0, 1])\n",
        "c = Binario([1, 1, 0, 0, 1, 1])\n",
        "print(a.decimal()) \n",
        "print(b.decimal()) \n",
        "print(c.decimal()) "
      ],
      "execution_count": null,
      "outputs": [
        {
          "output_type": "stream",
          "name": "stdout",
          "text": [
            "110011\n",
            "[1, '1', 0, '0', 1, '1']\n",
            "1\n",
            "1\n",
            "1\n",
            "1\n"
          ]
        }
      ]
    }
  ]
}
